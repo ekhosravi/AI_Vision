{
 "cells": [
  {
   "cell_type": "code",
   "execution_count": 1,
   "id": "065eaaee",
   "metadata": {},
   "outputs": [],
   "source": [
    "import cv2\n",
    "import numpy as np\n",
    "import matplotlib.pyplot as plt"
   ]
  },
  {
   "cell_type": "code",
   "execution_count": 2,
   "id": "9a4847ca",
   "metadata": {},
   "outputs": [],
   "source": [
    "def resize_img(img, scale_precent):\n",
    "    width = int(img.shape[1]*scale_precent/100)\n",
    "    hight = int(img.shape[0]*scale_precent/100)\n",
    "    dim = (width, hight)\n",
    "    \n",
    "    resized = cv2.resize(img, dim)\n",
    "    return resized\n",
    "    "
   ]
  },
  {
   "cell_type": "code",
   "execution_count": 3,
   "id": "d3b44b96",
   "metadata": {},
   "outputs": [],
   "source": [
    "#load image\n",
    "img1 = cv2.imread('media/Obj.jpg', -1)\n",
    "img2 = cv2.imread('media/Env.jpg', -1)"
   ]
  },
  {
   "cell_type": "code",
   "execution_count": 4,
   "id": "de9bd65c",
   "metadata": {},
   "outputs": [
    {
     "data": {
      "text/plain": [
       "-1"
      ]
     },
     "execution_count": 4,
     "metadata": {},
     "output_type": "execute_result"
    }
   ],
   "source": [
    "img1_resized = resize_img(img1, 20)\n",
    "img2_resized = resize_img(img2, 30)\n",
    "\n",
    "cv2.imshow('img1_resized', img1_resized)\n",
    "cv2.waitKey(0)\n",
    "cv2.imshow('img1_resized', img2_resized)\n",
    "cv2.waitKey(0)"
   ]
  },
  {
   "cell_type": "code",
   "execution_count": 5,
   "id": "4576bb11",
   "metadata": {},
   "outputs": [],
   "source": [
    "def SIFT_Func(img1_SIFT, img2_SIFT, Num_Of_Matches = 50):\n",
    "    #SIFT\n",
    "    sift = cv2.SIFT_create()\n",
    "\n",
    "    #x, y - -> keypoints, Histogram --> Discriptor\n",
    "\n",
    "    keypoints_1, desciptors_1 = sift.detectAndCompute(img1_SIFT, mask=None)\n",
    "    keypoints_2, desciptors_2 = sift.detectAndCompute(img2_SIFT, mask=None)\n",
    "\n",
    "    img1_dkp = cv2.drawKeypoints(img1_SIFT, keypoints_1, 0, flags=cv2.DRAW_MATCHES_FLAGS_DRAW_RICH_KEYPOINTS)\n",
    "    img2_dkp = cv2.drawKeypoints(img2_SIFT, keypoints_2, 0, flags=cv2.DRAW_MATCHES_FLAGS_DRAW_RICH_KEYPOINTS)\n",
    "\n",
    "    #cv2.imshow('img1_dkp', img1_dkp)\n",
    "    #cv2.imshow('img2_dkp', img2_dkp)\n",
    "    #cv2.waitKey(0)    \n",
    "    \n",
    "    #Brute force matcher\n",
    "    bf = cv2.BFMatcher(cv2.NORM_L2, crossCheck=True)\n",
    "    matches = bf.match(desciptors_1, desciptors_2)\n",
    "    matches = sorted(matches, key= lambda x: x.distance)\n",
    "\n",
    "    result = cv2.drawMatches(img1_SIFT, keypoints_1, img2_SIFT, keypoints_2, matches[:Num_Of_Matches], None)\n",
    "    cv2.imshow('result', result)\n",
    "    cv2.waitKey(0)"
   ]
  },
  {
   "cell_type": "code",
   "execution_count": 6,
   "id": "3127a8fe",
   "metadata": {},
   "outputs": [],
   "source": [
    "SIFT_Func(img1_resized, img2_resized, 70)"
   ]
  },
  {
   "cell_type": "code",
   "execution_count": 7,
   "id": "1d65f741",
   "metadata": {},
   "outputs": [
    {
     "data": {
      "text/plain": [
       "-1"
      ]
     },
     "execution_count": 7,
     "metadata": {},
     "output_type": "execute_result"
    }
   ],
   "source": [
    "\n",
    "cv2.imshow('img1_resized', img1_resized)\n",
    "cv2.waitKey(0)\n",
    "cv2.imshow('img1_resized', img2_resized)\n",
    "cv2.waitKey(0)"
   ]
  },
  {
   "cell_type": "code",
   "execution_count": 8,
   "id": "e7ee87ef",
   "metadata": {},
   "outputs": [],
   "source": [
    "img1_gray = cv2.cvtColor(img1, cv2.COLOR_BGR2GRAY)\n",
    "img2_gray = cv2.cvtColor(img2, cv2.COLOR_BGR2GRAY)\n",
    "\n",
    "img1_resized_gray = resize_img(img1_gray, 20)\n",
    "img2_resized_gray = resize_img(img2_gray, 30)\n",
    "\n",
    "SIFT_Func(img1_resized_gray, img2_resized_gray, 70)"
   ]
  },
  {
   "cell_type": "code",
   "execution_count": null,
   "id": "78045315",
   "metadata": {},
   "outputs": [],
   "source": []
  },
  {
   "cell_type": "code",
   "execution_count": 10,
   "id": "e3992484",
   "metadata": {},
   "outputs": [],
   "source": [
    "#SIFT ON VIDEO\n",
    "import cv2\n",
    "import time\n",
    "\n",
    "cap = cv2.VideoCapture(0)\n",
    "sift = cv2.SIFT_create()\n",
    "bf = cv2.BFMatcher(cv2.NORM_L2, crossCheck=True)\n",
    "\n",
    "while cap.isOpened():\n",
    "    ret, img1 = cap.read()\n",
    "    if not ret:\n",
    "        cap = cv2.VideoCapture(0)\n",
    "        continue\n",
    "        \n",
    "    img1 = cv2.cvtColor(img1, cv2.COLOR_BGR2GRAY)\n",
    "    \n",
    "    keypoints_1, desciptors_1 = sift.detectAndCompute(img1, mask=None)\n",
    "    keypoints_2, desciptors_2 = sift.detectAndCompute(img1_resized_gray, mask=None)\n",
    "\n",
    "    matches = bf.match(desciptors_1, desciptors_2)\n",
    "    matches = sorted(matches, key= lambda x: x.distance)\n",
    "    \n",
    "    result = cv2.drawMatches(img1, keypoints_1, img1_resized_gray, keypoints_2, matches[:50], None)\n",
    "\n",
    "    cv2.imshow('video', result)\n",
    "    \n",
    "    key = cv2.waitKey(1)\n",
    "    if key == ord('q'):\n",
    "        break\n",
    "        \n",
    "cap.release()\n",
    "cv2.destroyAllWindows()\n"
   ]
  },
  {
   "cell_type": "markdown",
   "id": "b1bc1c8c",
   "metadata": {},
   "source": [
    "### Which one works better? Why?\n",
    "SIFT has been proven to be the most robust local invariant feature descriptor. SIFT is designed mainly for gray images. However, color provides valuable information in object description and matching tasks. Many objects can be misclassified if their color contents are ignored. "
   ]
  },
  {
   "cell_type": "code",
   "execution_count": null,
   "id": "e321bedc",
   "metadata": {},
   "outputs": [],
   "source": []
  }
 ],
 "metadata": {
  "kernelspec": {
   "display_name": "Python 3",
   "language": "python",
   "name": "python3"
  },
  "language_info": {
   "codemirror_mode": {
    "name": "ipython",
    "version": 3
   },
   "file_extension": ".py",
   "mimetype": "text/x-python",
   "name": "python",
   "nbconvert_exporter": "python",
   "pygments_lexer": "ipython3",
   "version": "3.8.8"
  }
 },
 "nbformat": 4,
 "nbformat_minor": 5
}
