{
 "cells": [
  {
   "cell_type": "code",
   "execution_count": null,
   "id": "3017d7b4",
   "metadata": {},
   "outputs": [],
   "source": [
    "import cv2\n",
    "import numpy as np"
   ]
  },
  {
   "cell_type": "code",
   "execution_count": null,
   "id": "1a9533a4",
   "metadata": {},
   "outputs": [],
   "source": [
    "sift = cv2.SIFT_create()\n",
    "bf = cv2.BFMatcher()"
   ]
  },
  {
   "cell_type": "code",
   "execution_count": null,
   "id": "e4be273f",
   "metadata": {},
   "outputs": [],
   "source": [
    "def resize_img(img, percentage):\n",
    "    width = int(img.shape[1] *  percentage / 100)\n",
    "    height = int(img.shape[0] *  percentage / 100)\n",
    "    dim = (width, height)\n",
    "    \n",
    "    resized_img = cv2.resize(img, dim)\n",
    "    return resized_img"
   ]
  },
  {
   "cell_type": "code",
   "execution_count": null,
   "id": "94087e54",
   "metadata": {},
   "outputs": [],
   "source": [
    "#template_1\n",
    "\n",
    "template_1 = cv2.imread('templates/frame_1.png', 0)\n",
    "template_1 = resize_img(template_1, 50)\n",
    "keypoints_template_1, descriptors_template_1 = sift.detectAndCompute(template_1, None)"
   ]
  },
  {
   "cell_type": "code",
   "execution_count": null,
   "id": "ddbfa985",
   "metadata": {},
   "outputs": [],
   "source": [
    "#template_11\n",
    "\n",
    "template_11 = cv2.imread('templates/frame_11.png', 0)\n",
    "template_11 = resize_img(template_11, 50)\n",
    "keypoints_template_11, descriptors_template_11 = sift.detectAndCompute(template_11, None)"
   ]
  },
  {
   "cell_type": "code",
   "execution_count": null,
   "id": "03eb2337",
   "metadata": {},
   "outputs": [],
   "source": [
    "#template 20-30\n"
   ]
  },
  {
   "cell_type": "code",
   "execution_count": null,
   "id": "3065f147",
   "metadata": {},
   "outputs": [],
   "source": [
    "#template 30-40\n",
    "\n",
    "template_35 = cv2.imread('templates/frame_35.png', 0)\n",
    "template_35 = resize_img(template_35, 50)\n",
    "keypoints_template_35, descriptors_template_35 = sift.detectAndCompute(template_35, None)"
   ]
  },
  {
   "cell_type": "code",
   "execution_count": null,
   "id": "120de8e9",
   "metadata": {},
   "outputs": [],
   "source": [
    "#template 40-50"
   ]
  },
  {
   "cell_type": "code",
   "execution_count": null,
   "id": "248e4bb6",
   "metadata": {},
   "outputs": [],
   "source": [
    "#template 50-60"
   ]
  },
  {
   "cell_type": "code",
   "execution_count": null,
   "id": "98cfbb8c",
   "metadata": {},
   "outputs": [],
   "source": [
    "#template 60-70"
   ]
  },
  {
   "cell_type": "code",
   "execution_count": null,
   "id": "d7be376e",
   "metadata": {},
   "outputs": [],
   "source": [
    "#template 70-80"
   ]
  },
  {
   "cell_type": "code",
   "execution_count": null,
   "id": "94969235",
   "metadata": {},
   "outputs": [],
   "source": [
    "#template 80-90\n",
    "\n",
    "template_84 = cv2.imread('templates/frame_84.png', 0)\n",
    "template_84 = resize_img(template_84, 50)\n",
    "keypoints_template_84, descriptors_template_84 = sift.detectAndCompute(template_84, None)"
   ]
  },
  {
   "cell_type": "code",
   "execution_count": null,
   "id": "18d6cb90",
   "metadata": {},
   "outputs": [],
   "source": [
    "#template 90-100"
   ]
  },
  {
   "cell_type": "code",
   "execution_count": null,
   "id": "67e4adc9",
   "metadata": {},
   "outputs": [],
   "source": [
    "#template 100-110"
   ]
  },
  {
   "cell_type": "code",
   "execution_count": null,
   "id": "83c60495",
   "metadata": {},
   "outputs": [],
   "source": [
    "#template 110-120"
   ]
  },
  {
   "cell_type": "code",
   "execution_count": null,
   "id": "554788ed",
   "metadata": {},
   "outputs": [],
   "source": [
    "#template 120-130"
   ]
  },
  {
   "cell_type": "code",
   "execution_count": null,
   "id": "aae743e8",
   "metadata": {},
   "outputs": [],
   "source": [
    "#template 130-140"
   ]
  },
  {
   "cell_type": "code",
   "execution_count": null,
   "id": "4501431a",
   "metadata": {},
   "outputs": [],
   "source": [
    "#template 140-150"
   ]
  },
  {
   "cell_type": "code",
   "execution_count": null,
   "id": "20946c01",
   "metadata": {},
   "outputs": [],
   "source": [
    "#template 140-150\n",
    "\n",
    "template_141 = cv2.imread('templates/frame_141.png', 0)\n",
    "template_141 = resize_img(template_141, 50)\n",
    "keypoints_template_141, descriptors_template_141 = sift.detectAndCompute(template_141, None)"
   ]
  },
  {
   "cell_type": "code",
   "execution_count": null,
   "id": "f2365358",
   "metadata": {},
   "outputs": [],
   "source": [
    "#template 150-160"
   ]
  },
  {
   "cell_type": "code",
   "execution_count": null,
   "id": "0fcc62fc",
   "metadata": {},
   "outputs": [],
   "source": [
    "#template 160-170\n",
    "\n",
    "template_163 = cv2.imread('templates/frame_163.png', 0)\n",
    "template_163 = resize_img(template_163, 50)\n",
    "keypoints_template_163, descriptors_template_163 = sift.detectAndCompute(template_163, None)"
   ]
  },
  {
   "cell_type": "code",
   "execution_count": null,
   "id": "3955d7eb",
   "metadata": {},
   "outputs": [],
   "source": [
    "#template 170-180"
   ]
  },
  {
   "cell_type": "code",
   "execution_count": null,
   "id": "4ff99232",
   "metadata": {},
   "outputs": [],
   "source": [
    "#template 180-190\n",
    "\n",
    "template_181 = cv2.imread('templates/frame_181.png', 0)\n",
    "template_181 = resize_img(template_181, 50)\n",
    "keypoints_template_181, descriptors_template_181 = sift.detectAndCompute(template_181, None)"
   ]
  },
  {
   "cell_type": "code",
   "execution_count": null,
   "id": "db7f3e00",
   "metadata": {},
   "outputs": [],
   "source": [
    "#template 190-200\n",
    "\n",
    "\n",
    "template_191 = cv2.imread('templates/frame_191.png', 0)\n",
    "template_191 = resize_img(template_191, 50)\n",
    "keypoints_template_191, descriptors_template_191 = sift.detectAndCompute(template_191, None)"
   ]
  },
  {
   "cell_type": "code",
   "execution_count": null,
   "id": "7a6a199b",
   "metadata": {},
   "outputs": [],
   "source": [
    "#template 200-210"
   ]
  },
  {
   "cell_type": "code",
   "execution_count": null,
   "id": "580ca277",
   "metadata": {},
   "outputs": [],
   "source": [
    "#template 210-220"
   ]
  },
  {
   "cell_type": "code",
   "execution_count": null,
   "id": "3e34e9a5",
   "metadata": {},
   "outputs": [],
   "source": [
    "#template 220-230\n",
    "template_221 = cv2.imread('templates/frame_221.png', 0)\n",
    "template_221 = resize_img(template_221, 50)\n",
    "keypoints_template_221, descriptors_template_221 = sift.detectAndCompute(template_221, None)"
   ]
  },
  {
   "cell_type": "code",
   "execution_count": null,
   "id": "3e82e286",
   "metadata": {},
   "outputs": [],
   "source": [
    "#template 230-240\n",
    "\n"
   ]
  },
  {
   "cell_type": "code",
   "execution_count": null,
   "id": "5b8c6320",
   "metadata": {},
   "outputs": [],
   "source": [
    "#template 240-250\n",
    "\n"
   ]
  },
  {
   "cell_type": "code",
   "execution_count": null,
   "id": "fb0853a1",
   "metadata": {},
   "outputs": [],
   "source": [
    "#template 250-260\n",
    "\n"
   ]
  },
  {
   "cell_type": "code",
   "execution_count": null,
   "id": "a261e8c5",
   "metadata": {},
   "outputs": [],
   "source": [
    "#template 260-270\n",
    "\n"
   ]
  },
  {
   "cell_type": "code",
   "execution_count": null,
   "id": "ca44e558",
   "metadata": {},
   "outputs": [],
   "source": [
    "#template 270-280\n",
    "\n"
   ]
  },
  {
   "cell_type": "code",
   "execution_count": null,
   "id": "38ee2d13",
   "metadata": {},
   "outputs": [],
   "source": [
    "#template 280-290\n",
    "\n"
   ]
  },
  {
   "cell_type": "code",
   "execution_count": null,
   "id": "be6a8fc0",
   "metadata": {},
   "outputs": [],
   "source": [
    "#template 290-300\n",
    "\n"
   ]
  },
  {
   "cell_type": "code",
   "execution_count": null,
   "id": "c029ae1f",
   "metadata": {},
   "outputs": [],
   "source": [
    "#template 300-310\n"
   ]
  },
  {
   "cell_type": "code",
   "execution_count": null,
   "id": "f2347ad4",
   "metadata": {},
   "outputs": [],
   "source": [
    "#template 310-320\n"
   ]
  },
  {
   "cell_type": "code",
   "execution_count": null,
   "id": "31801724",
   "metadata": {},
   "outputs": [],
   "source": [
    "#template 320-330"
   ]
  },
  {
   "cell_type": "code",
   "execution_count": null,
   "id": "166d6506",
   "metadata": {},
   "outputs": [],
   "source": [
    "#template 330-340\n",
    "\n"
   ]
  },
  {
   "cell_type": "code",
   "execution_count": null,
   "id": "00fd17a6",
   "metadata": {},
   "outputs": [],
   "source": [
    "#template 340-350"
   ]
  },
  {
   "cell_type": "code",
   "execution_count": null,
   "id": "91fca76b",
   "metadata": {},
   "outputs": [],
   "source": [
    "#template 350-360\n"
   ]
  },
  {
   "cell_type": "code",
   "execution_count": null,
   "id": "0502da06",
   "metadata": {},
   "outputs": [],
   "source": [
    "#template 360-370"
   ]
  },
  {
   "cell_type": "code",
   "execution_count": null,
   "id": "43a55c51",
   "metadata": {},
   "outputs": [],
   "source": [
    "#template 370-380"
   ]
  },
  {
   "cell_type": "code",
   "execution_count": null,
   "id": "2c3e3ca9",
   "metadata": {},
   "outputs": [],
   "source": [
    "#template 380-390"
   ]
  },
  {
   "cell_type": "code",
   "execution_count": null,
   "id": "675a0748",
   "metadata": {},
   "outputs": [],
   "source": [
    "#template 390-400"
   ]
  },
  {
   "cell_type": "code",
   "execution_count": null,
   "id": "ad4cf2d9",
   "metadata": {},
   "outputs": [],
   "source": [
    "#template 400-410"
   ]
  },
  {
   "cell_type": "code",
   "execution_count": null,
   "id": "01d35faf",
   "metadata": {},
   "outputs": [],
   "source": [
    "#template 410-420"
   ]
  },
  {
   "cell_type": "code",
   "execution_count": null,
   "id": "2a8bdf39",
   "metadata": {},
   "outputs": [],
   "source": [
    "#template 421"
   ]
  },
  {
   "cell_type": "code",
   "execution_count": null,
   "id": "8692e8bd",
   "metadata": {},
   "outputs": [],
   "source": []
  },
  {
   "cell_type": "code",
   "execution_count": null,
   "id": "8c1fba61",
   "metadata": {},
   "outputs": [],
   "source": []
  },
  {
   "cell_type": "code",
   "execution_count": null,
   "id": "847655e5",
   "metadata": {},
   "outputs": [],
   "source": [
    "#Frame Numbers that you select for templates!\n",
    "\n",
    "template_frames = [1, 11, 35, 84, 141, 163, 181, 191, 221, 269]"
   ]
  },
  {
   "cell_type": "code",
   "execution_count": null,
   "id": "a88027ca",
   "metadata": {},
   "outputs": [],
   "source": [
    "cap = cv2.VideoCapture(r'templates/car.mp4')"
   ]
  },
  {
   "cell_type": "code",
   "execution_count": null,
   "id": "e7db328d",
   "metadata": {},
   "outputs": [],
   "source": [
    "frame_number = 0\n",
    "\n",
    "while True:\n",
    "    \n",
    "    ret, frame = cap.read()\n",
    "    \n",
    "    if not ret:\n",
    "        break\n",
    "        \n",
    "    \n",
    "    frame = cv2.cvtColor(frame, cv2.COLOR_BGR2GRAY)\n",
    "    frame = resize_img(frame, 50)\n",
    "    keypoints_frame, descriptors_frame = sift.detectAndCompute(frame, None) \n",
    "    \n",
    "    \n",
    "    frame_number = frame_number + 1\n",
    "    \n",
    "    template_number = frame_number // 10\n",
    "    print(template_number)\n",
    "    t ='template_{}'.format(template_frames[template_number])\n",
    "    f = 'keypoints_template_{}'.format(template_frames[template_number])\n",
    "    d = 'descriptors_template_{}'.format(template_frames[template_number])\n",
    "    \n",
    "    template = eval(t)\n",
    "    keypoints_template = eval(f)\n",
    "    descriptors_template = eval(d)\n",
    "    \n",
    "    matches = bf.knnMatch(descriptors_template, descriptors_frame, k=2)\n",
    "    \n",
    "    good_matches = []\n",
    "    \n",
    "    if matches is not None:\n",
    "        \n",
    "        for m, n in matches:\n",
    "            if m.distance < 0.7 * n.distance:\n",
    "                good_matches.append(m)\n",
    "\n",
    "        \n",
    "        if len(good_matches) >= 4:\n",
    "\n",
    "            src_pts = np.float32([keypoints_template[m.queryIdx].pt for m in good_matches]).reshape(-1, 1, 2) \n",
    "            dst_pts = np.float32([keypoints_frame[m.trainIdx].pt for m in good_matches]).reshape(-1, 1, 2)\n",
    "            \n",
    "            #print('src_pts ' , src_pts)\n",
    "            #print('dst_pts' , dst_pts)\n",
    "\n",
    "            M,_=cv2.findHomography(src_pts, dst_pts, cv2.RANSAC)\n",
    "            \n",
    "            h, w = template.shape\n",
    "         \n",
    "            if M is not None:\n",
    "                template_corner = np.float32([[0, 0], [0, h], [w, h], [w, 0]]).reshape(-1, 1, 2)\n",
    "\n",
    "                transformed_corner = cv2.perspectiveTransform(template_corner, M)\n",
    "\n",
    "                bounding_box = cv2.polylines(frame, [np.int32(transformed_corner)], True, (0, 255, 0), 2)\n",
    "                cv2.imshow('bounding box', bounding_box)\n",
    "\n",
    "    \n",
    "    if cv2.waitKey(1)==27:\n",
    "        break\n",
    "cap.release()\n",
    "cv2.destroyAllWindows()"
   ]
  },
  {
   "cell_type": "code",
   "execution_count": null,
   "id": "14c9d904",
   "metadata": {},
   "outputs": [],
   "source": []
  },
  {
   "cell_type": "code",
   "execution_count": null,
   "id": "d9b09d54",
   "metadata": {},
   "outputs": [],
   "source": []
  },
  {
   "cell_type": "code",
   "execution_count": null,
   "id": "83ba9535",
   "metadata": {},
   "outputs": [],
   "source": []
  },
  {
   "cell_type": "code",
   "execution_count": null,
   "id": "9c497287",
   "metadata": {},
   "outputs": [],
   "source": []
  }
 ],
 "metadata": {
  "kernelspec": {
   "display_name": "Python 3 (ipykernel)",
   "language": "python",
   "name": "python3"
  },
  "language_info": {
   "codemirror_mode": {
    "name": "ipython",
    "version": 3
   },
   "file_extension": ".py",
   "mimetype": "text/x-python",
   "name": "python",
   "nbconvert_exporter": "python",
   "pygments_lexer": "ipython3",
   "version": "3.10.6"
  }
 },
 "nbformat": 4,
 "nbformat_minor": 5
}
