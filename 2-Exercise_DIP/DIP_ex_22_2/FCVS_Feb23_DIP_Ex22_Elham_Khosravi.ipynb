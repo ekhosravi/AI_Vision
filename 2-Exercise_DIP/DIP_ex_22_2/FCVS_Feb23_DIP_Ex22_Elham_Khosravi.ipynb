{
 "cells": [
  {
   "cell_type": "code",
   "execution_count": 1,
   "id": "3017d7b4",
   "metadata": {},
   "outputs": [],
   "source": [
    "import cv2\n",
    "import numpy as np"
   ]
  },
  {
   "cell_type": "markdown",
   "id": "3eb22e1d",
   "metadata": {},
   "source": [
    "### Cutting Video and Produce templates and then i crop the pictures"
   ]
  },
  {
   "cell_type": "code",
   "execution_count": 2,
   "id": "e050c218",
   "metadata": {},
   "outputs": [],
   "source": [
    "#vid = cv2.VideoCapture('car.mp4') \n",
    "\n",
    "#frame_number = 0\n",
    "\n",
    "#while True:\n",
    "#    ret, frame = vid.read()\n",
    "    \n",
    "#    if not ret:\n",
    "#        break\n",
    "        \n",
    "#    if frame_number % 10 == 0:\n",
    "#        cv2.imwrite(f'templates/base/frame_{frame_number + 1}.png', frame)\n",
    "    \n",
    "#    cv2.imshow('frame', frame)\n",
    "#    frame_number = frame_number + 1\n",
    "\n",
    "#    if cv2.waitKey(1)==27:\n",
    "#        break\n",
    "    \n",
    "#vid.release()\n",
    "#cv2.destroyAllWindows()\n",
    "\n",
    "#print(frame_number)"
   ]
  },
  {
   "cell_type": "markdown",
   "id": "22f964b6",
   "metadata": {},
   "source": [
    "## Main Part of object tracjing"
   ]
  },
  {
   "cell_type": "code",
   "execution_count": 3,
   "id": "d430bd56",
   "metadata": {},
   "outputs": [],
   "source": [
    "sift = cv2.SIFT_create()\n",
    "bf = cv2.BFMatcher()"
   ]
  },
  {
   "cell_type": "code",
   "execution_count": 4,
   "id": "50ff8b63",
   "metadata": {},
   "outputs": [],
   "source": [
    "def resize_img(img, percentage):\n",
    "    width = int(img.shape[1] *  percentage / 100)\n",
    "    height = int(img.shape[0] *  percentage / 100)\n",
    "    dim = (width, height)\n",
    "    \n",
    "    resized_img = cv2.resize(img, dim)\n",
    "    return resized_img"
   ]
  },
  {
   "cell_type": "code",
   "execution_count": null,
   "id": "f46e8074",
   "metadata": {},
   "outputs": [],
   "source": []
  },
  {
   "cell_type": "code",
   "execution_count": 5,
   "id": "a5b97fe8",
   "metadata": {},
   "outputs": [],
   "source": [
    "#Frame Numbers that you select for templates!\n",
    "\n",
    "template_frames = [1, 11, 21, 31, 41, 51, 51, 81 , 81, 91, 101, 111, 121, 131, 141, 151, 161, 161, 181, 191, 201, 211, 221, 231, 231,231,231, 271, 281, 291, 301, 301, 321, 331, 341,361, 361,371, 381, 391, 401, 411, 421]"
   ]
  },
  {
   "cell_type": "code",
   "execution_count": 6,
   "id": "188d0fcd",
   "metadata": {},
   "outputs": [],
   "source": [
    "templates = []\n",
    "keypoints_templates = []\n",
    "descriptors_templates = []\n",
    "\n",
    "for template_number in template_frames:\n",
    "    f = 'frame_{}.png'.format(template_number)\n",
    "    #print(f)\n",
    "    \n",
    "    template_ = cv2.imread('templates/{}'.format(f)) # , 0)\n",
    "    template_ = resize_img(template_ , 50)\n",
    "    keypoints_template_ , descriptors_template_ = sift.detectAndCompute(template_, None)\n",
    "    \n",
    "    templates.append(template_)\n",
    "    keypoints_templates.append(keypoints_template_)    \n",
    "    descriptors_templates.append(descriptors_template_)    \n",
    "\n",
    "#print(templates)"
   ]
  },
  {
   "cell_type": "code",
   "execution_count": 7,
   "id": "c3048ede",
   "metadata": {},
   "outputs": [],
   "source": [
    "cap = cv2.VideoCapture('car.mp4') "
   ]
  },
  {
   "cell_type": "code",
   "execution_count": 8,
   "id": "e7db328d",
   "metadata": {},
   "outputs": [],
   "source": [
    "frame_number = 0\n",
    "\n",
    "while True:\n",
    "    ret, frame = cap.read()\n",
    "    \n",
    "    if not ret:\n",
    "        break\n",
    "    \n",
    "    #frame = cv2.cvtColor(frame, cv2.COLOR_BGR2GRAY)\n",
    "    frame = resize_img(frame, 50)\n",
    "    keypoints_frame, descriptors_frame = sift.detectAndCompute(frame, None) \n",
    "    \n",
    "    frame_number = frame_number + 1\n",
    "    \n",
    "    template_number = frame_number // 10\n",
    "    #print(template_number)\n",
    "    \n",
    "    template = templates[template_number]\n",
    "    keypoints_template = keypoints_templates[template_number]\n",
    "    descriptors_template = descriptors_templates[template_number]\n",
    "    \n",
    "    matches = bf.knnMatch(descriptors_template, descriptors_frame, k=2)\n",
    "    \n",
    "    good_matches = []\n",
    "    \n",
    "    if matches is not None:\n",
    "        \n",
    "        for m, n in matches:\n",
    "            if m.distance < 0.7 * n.distance:\n",
    "                good_matches.append(m)\n",
    "\n",
    "        if len(good_matches) >= 4:\n",
    "\n",
    "            src_pts = np.float32([keypoints_template[m.queryIdx].pt for m in good_matches]).reshape(-1, 1, 2) \n",
    "            dst_pts = np.float32([keypoints_frame[m.trainIdx].pt for m in good_matches]).reshape(-1, 1, 2)\n",
    "            \n",
    "            #print('src_pts ' , src_pts)\n",
    "            #print('dst_pts' , dst_pts)\n",
    "\n",
    "            M,_=cv2.findHomography(src_pts, dst_pts, cv2.RANSAC)\n",
    "            \n",
    "            h, w, _ = template.shape\n",
    "         \n",
    "            if M is not None:\n",
    "                template_corner = np.float32([[0, 0], [0, h], [w, h], [w, 0]]).reshape(-1, 1, 2)\n",
    "\n",
    "                transformed_corner = cv2.perspectiveTransform(template_corner, M)\n",
    "\n",
    "                bounding_box = cv2.polylines(frame, [np.int32(transformed_corner)], True, (0, 255, 0), 2)\n",
    "                cv2.imshow('bounding box', bounding_box)\n",
    "    \n",
    "    if cv2.waitKey(1) == 27:\n",
    "        break\n",
    "        \n",
    "cap.release()\n",
    "cv2.destroyAllWindows()"
   ]
  },
  {
   "cell_type": "code",
   "execution_count": null,
   "id": "83ba9535",
   "metadata": {},
   "outputs": [],
   "source": []
  },
  {
   "cell_type": "code",
   "execution_count": null,
   "id": "9c497287",
   "metadata": {},
   "outputs": [],
   "source": []
  }
 ],
 "metadata": {
  "kernelspec": {
   "display_name": "Python 3",
   "language": "python",
   "name": "python3"
  },
  "language_info": {
   "codemirror_mode": {
    "name": "ipython",
    "version": 3
   },
   "file_extension": ".py",
   "mimetype": "text/x-python",
   "name": "python",
   "nbconvert_exporter": "python",
   "pygments_lexer": "ipython3",
   "version": "3.8.8"
  }
 },
 "nbformat": 4,
 "nbformat_minor": 5
}
