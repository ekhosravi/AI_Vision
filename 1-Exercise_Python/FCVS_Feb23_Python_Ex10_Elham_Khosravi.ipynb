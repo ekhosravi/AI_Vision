{
 "cells": [
  {
   "cell_type": "markdown",
   "id": "41b5f73b",
   "metadata": {},
   "source": [
    "#            Exercise 10"
   ]
  },
  {
   "cell_type": "markdown",
   "id": "5e748822",
   "metadata": {},
   "source": [
    "### Exercise 01 : "
   ]
  },
  {
   "cell_type": "code",
   "execution_count": 44,
   "id": "ecd80871",
   "metadata": {},
   "outputs": [],
   "source": [
    "def recur_fibonacci(n):\n",
    "    if n <= 1:\n",
    "        return n\n",
    "    else:\n",
    "        return(recur_fibonacci(n-1) + recur_fibonacci(n-2))"
   ]
  },
  {
   "cell_type": "code",
   "execution_count": 45,
   "id": "800ef87d",
   "metadata": {},
   "outputs": [],
   "source": [
    "def print_Fibonacci_Recurtion(nterm):\n",
    "\n",
    "    if nterms <= 0:\n",
    "       print(\"Plese enter a positive integer\")\n",
    "\n",
    "    else:\n",
    "       print(\"Fibonacci sequence:\")\n",
    "       for i in range(nterms):\n",
    "           print(recur_fibo(i), end=' ')\n"
   ]
  },
  {
   "cell_type": "code",
   "execution_count": 46,
   "id": "b468e410",
   "metadata": {},
   "outputs": [
    {
     "name": "stdout",
     "output_type": "stream",
     "text": [
      "Fibonacci sequence:\n",
      "0 1 1 2 3 5 8 "
     ]
    }
   ],
   "source": [
    "print_Fibonacci_Recurtion(7)"
   ]
  },
  {
   "cell_type": "code",
   "execution_count": null,
   "id": "07b59c50",
   "metadata": {},
   "outputs": [],
   "source": []
  },
  {
   "cell_type": "code",
   "execution_count": null,
   "id": "5a455b99",
   "metadata": {},
   "outputs": [],
   "source": []
  },
  {
   "cell_type": "code",
   "execution_count": null,
   "id": "92c7a5b9",
   "metadata": {},
   "outputs": [],
   "source": []
  }
 ],
 "metadata": {
  "kernelspec": {
   "display_name": "Python 3",
   "language": "python",
   "name": "python3"
  },
  "language_info": {
   "codemirror_mode": {
    "name": "ipython",
    "version": 3
   },
   "file_extension": ".py",
   "mimetype": "text/x-python",
   "name": "python",
   "nbconvert_exporter": "python",
   "pygments_lexer": "ipython3",
   "version": "3.8.8"
  }
 },
 "nbformat": 4,
 "nbformat_minor": 5
}
