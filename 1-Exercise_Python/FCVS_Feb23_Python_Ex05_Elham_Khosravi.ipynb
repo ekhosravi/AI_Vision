{
 "cells": [
  {
   "cell_type": "markdown",
   "id": "5e748822",
   "metadata": {},
   "source": [
    "### Exercise 01 : "
   ]
  },
  {
   "cell_type": "markdown",
   "id": "f20c28f2",
   "metadata": {},
   "source": [
    "### 1."
   ]
  },
  {
   "cell_type": "code",
   "execution_count": 13,
   "id": "8782d498",
   "metadata": {},
   "outputs": [],
   "source": [
    "sisters = tuple()\n",
    "brothers = tuple()"
   ]
  },
  {
   "cell_type": "code",
   "execution_count": 14,
   "id": "75292d5b",
   "metadata": {},
   "outputs": [
    {
     "name": "stdout",
     "output_type": "stream",
     "text": [
      "()\n"
     ]
    }
   ],
   "source": [
    "print(sisters)"
   ]
  },
  {
   "cell_type": "code",
   "execution_count": 15,
   "id": "17344500",
   "metadata": {},
   "outputs": [
    {
     "name": "stdout",
     "output_type": "stream",
     "text": [
      "()\n"
     ]
    }
   ],
   "source": [
    "print(brothers)"
   ]
  },
  {
   "cell_type": "markdown",
   "id": "166dcede",
   "metadata": {},
   "source": [
    "### 2."
   ]
  },
  {
   "cell_type": "code",
   "execution_count": 16,
   "id": "3ca9ca8b",
   "metadata": {},
   "outputs": [
    {
     "name": "stdout",
     "output_type": "stream",
     "text": [
      "('nikoo', 'Armita', 'Elahe', 'Elham')\n",
      "('Ali', 'Mohammad', 'Navid', 'Heidar', 'Mahdi')\n"
     ]
    }
   ],
   "source": [
    "sisters = (\"nikoo\" , \"Armita\" , \"Elahe\" , \"Elham\")\n",
    "\n",
    "brothers = (\"Ali\" , \"Mohammad\" , \"Navid\" , \"Heidar\" , \"Mahdi\")\n",
    "\n",
    "print(sisters)\n",
    "print(brothers)"
   ]
  },
  {
   "cell_type": "markdown",
   "id": "f9b36601",
   "metadata": {},
   "source": [
    "### 3."
   ]
  },
  {
   "cell_type": "code",
   "execution_count": 17,
   "id": "0c121612",
   "metadata": {},
   "outputs": [],
   "source": [
    "siblings = sisters + brothers"
   ]
  },
  {
   "cell_type": "code",
   "execution_count": 18,
   "id": "c5d09cd8",
   "metadata": {},
   "outputs": [
    {
     "name": "stdout",
     "output_type": "stream",
     "text": [
      "('nikoo', 'Armita', 'Elahe', 'Elham', 'Ali', 'Mohammad', 'Navid', 'Heidar', 'Mahdi')\n"
     ]
    }
   ],
   "source": [
    "print(siblings)"
   ]
  },
  {
   "cell_type": "markdown",
   "id": "9b84e7d4",
   "metadata": {},
   "source": [
    "### 4."
   ]
  },
  {
   "cell_type": "code",
   "execution_count": 19,
   "id": "b633a746",
   "metadata": {},
   "outputs": [
    {
     "name": "stdout",
     "output_type": "stream",
     "text": [
      "I Have  9  siblings\n"
     ]
    }
   ],
   "source": [
    "print(\"I Have  {}  siblings\".format(len(siblings)))"
   ]
  },
  {
   "cell_type": "markdown",
   "id": "f0c7939b",
   "metadata": {},
   "source": [
    "### 5."
   ]
  },
  {
   "cell_type": "code",
   "execution_count": 20,
   "id": "f443003b",
   "metadata": {},
   "outputs": [],
   "source": [
    "lst = list(siblings)"
   ]
  },
  {
   "cell_type": "code",
   "execution_count": 21,
   "id": "f703e5fa",
   "metadata": {},
   "outputs": [],
   "source": [
    "lst.insert(0, \"Tayebe\")"
   ]
  },
  {
   "cell_type": "code",
   "execution_count": 22,
   "id": "83572a9b",
   "metadata": {},
   "outputs": [],
   "source": [
    "lst.insert(0, \"Akbar\")"
   ]
  },
  {
   "cell_type": "code",
   "execution_count": 23,
   "id": "36f060a3",
   "metadata": {},
   "outputs": [],
   "source": [
    "family_members = tuple(lst)"
   ]
  },
  {
   "cell_type": "code",
   "execution_count": 24,
   "id": "a5fb9a71",
   "metadata": {},
   "outputs": [
    {
     "name": "stdout",
     "output_type": "stream",
     "text": [
      "Family Memebers are : \n",
      "('Akbar', 'Tayebe', 'nikoo', 'Armita', 'Elahe', 'Elham', 'Ali', 'Mohammad', 'Navid', 'Heidar', 'Mahdi')\n"
     ]
    }
   ],
   "source": [
    "print(\"Family Memebers are : \")\n",
    "print(family_members)"
   ]
  },
  {
   "cell_type": "code",
   "execution_count": null,
   "id": "e62a2ed8",
   "metadata": {},
   "outputs": [],
   "source": []
  },
  {
   "cell_type": "markdown",
   "id": "4553f3ef",
   "metadata": {},
   "source": [
    "### Exercise 02 : "
   ]
  },
  {
   "cell_type": "markdown",
   "id": "11a2fc7e",
   "metadata": {},
   "source": [
    "### 1."
   ]
  },
  {
   "cell_type": "code",
   "execution_count": 41,
   "id": "1bc71235",
   "metadata": {},
   "outputs": [
    {
     "name": "stdout",
     "output_type": "stream",
     "text": [
      "('Papaya', 'Apple', 'Orange ', 'Banana ')\n",
      "('Cucumber', 'Pumpkin', 'Tomato', 'Peppers', 'Eggplant', 'String beans', 'Green peas')\n",
      "('Dolphin', 'Dog', 'Cat', 'Goat')\n",
      "\n",
      " the type of fruits collecton is : <class 'tuple'>\n"
     ]
    }
   ],
   "source": [
    "fruits = (\"Papaya\" , \"Apple\" , \"Orange \" , \"Banana \",)\n",
    "vegetables = (\"Cucumber\" , \"Pumpkin\" , \"Tomato\" , \"Peppers\" , \"Eggplant\" ,\"String beans\" ,\"Green peas\")\n",
    "animal = (\"Dolphin\" , \"Dog\" , \"Cat\" , \"Goat\")\n",
    "\n",
    "print(fruits)\n",
    "print(vegetables)\n",
    "print(animal)\n",
    "\n",
    "print(\"\\n the type of fruits collecton is : {}\".format( type(fruits)))"
   ]
  },
  {
   "cell_type": "markdown",
   "id": "cf8fb382",
   "metadata": {},
   "source": [
    "### 2."
   ]
  },
  {
   "cell_type": "code",
   "execution_count": 43,
   "id": "f6d8e9b0",
   "metadata": {},
   "outputs": [
    {
     "name": "stdout",
     "output_type": "stream",
     "text": [
      "('Papaya', 'Apple', 'Orange ', 'Banana ', 'Cucumber', 'Pumpkin', 'Tomato', 'Peppers', 'Eggplant', 'String beans', 'Green peas', 'Dolphin', 'Dog', 'Cat', 'Goat')\n",
      "\n",
      " the type of joined collecton is : <class 'tuple'>\n"
     ]
    }
   ],
   "source": [
    "food_stuff_tp = fruits + vegetables + animal\n",
    "print(food_stuff_tp)\n",
    "print(\"\\n the type of joined collecton is : {}\".format( type(food_stuff_tp)))"
   ]
  },
  {
   "cell_type": "markdown",
   "id": "fdb95db2",
   "metadata": {},
   "source": [
    "### 3."
   ]
  },
  {
   "cell_type": "code",
   "execution_count": 45,
   "id": "ee9619e3",
   "metadata": {},
   "outputs": [
    {
     "name": "stdout",
     "output_type": "stream",
     "text": [
      "\n",
      " the type of joined collecton is : <class 'list'>\n"
     ]
    }
   ],
   "source": [
    "food_stuff_ls = list(food_stuff_tp) \n",
    "print(\"\\n the type of joined collecton is : {}\".format( type(food_stuff_ls)))"
   ]
  },
  {
   "cell_type": "markdown",
   "id": "eecf5960",
   "metadata": {},
   "source": [
    "### 4."
   ]
  },
  {
   "cell_type": "code",
   "execution_count": 51,
   "id": "b19afef5",
   "metadata": {},
   "outputs": [
    {
     "name": "stdout",
     "output_type": "stream",
     "text": [
      "['Tomato']\n"
     ]
    }
   ],
   "source": [
    "ln = (len(food_stuff_ls) // 2) - 1\n",
    "print(food_stuff_ls[ln : (ln + 1)])"
   ]
  },
  {
   "cell_type": "markdown",
   "id": "db7bab8c",
   "metadata": {},
   "source": [
    "### 5."
   ]
  },
  {
   "cell_type": "code",
   "execution_count": 54,
   "id": "8ee92603",
   "metadata": {},
   "outputs": [
    {
     "data": {
      "text/plain": [
       "['Papaya', 'Apple', 'Orange ', 'Dog', 'Cat', 'Goat']"
      ]
     },
     "execution_count": 54,
     "metadata": {},
     "output_type": "execute_result"
    }
   ],
   "source": [
    "food_stuff_ls[:3] + food_stuff_ls[-3:] "
   ]
  },
  {
   "cell_type": "markdown",
   "id": "857b10ca",
   "metadata": {},
   "source": [
    "### 6."
   ]
  },
  {
   "cell_type": "code",
   "execution_count": 66,
   "id": "9d3802e6",
   "metadata": {},
   "outputs": [
    {
     "name": "stdout",
     "output_type": "stream",
     "text": [
      "0\n"
     ]
    }
   ],
   "source": [
    "food_stuff_ls.clear()\n",
    "food_stuff_tp = tuple(food_stuff_ls)\n",
    "print(len(food_stuff_tp))"
   ]
  },
  {
   "cell_type": "code",
   "execution_count": 67,
   "id": "67aca0bf",
   "metadata": {},
   "outputs": [],
   "source": [
    "del food_stuff_tp"
   ]
  },
  {
   "cell_type": "code",
   "execution_count": 68,
   "id": "d820ec6e",
   "metadata": {},
   "outputs": [
    {
     "name": "stdout",
     "output_type": "stream",
     "text": [
      "After deleting tup : \n"
     ]
    }
   ],
   "source": [
    "print (\"After deleting tup : \")\n"
   ]
  },
  {
   "cell_type": "code",
   "execution_count": 69,
   "id": "6edbacf9",
   "metadata": {},
   "outputs": [
    {
     "ename": "NameError",
     "evalue": "name 'food_stuff_tp' is not defined",
     "output_type": "error",
     "traceback": [
      "\u001b[1;31m---------------------------------------------------------------------------\u001b[0m",
      "\u001b[1;31mNameError\u001b[0m                                 Traceback (most recent call last)",
      "\u001b[1;32m<ipython-input-69-9c5ac95c78ee>\u001b[0m in \u001b[0;36m<module>\u001b[1;34m\u001b[0m\n\u001b[1;32m----> 1\u001b[1;33m \u001b[0mprint\u001b[0m\u001b[1;33m(\u001b[0m\u001b[0mfood_stuff_tp\u001b[0m\u001b[1;33m)\u001b[0m\u001b[1;33m\u001b[0m\u001b[1;33m\u001b[0m\u001b[0m\n\u001b[0m",
      "\u001b[1;31mNameError\u001b[0m: name 'food_stuff_tp' is not defined"
     ]
    }
   ],
   "source": [
    "print(food_stuff_tp)"
   ]
  },
  {
   "cell_type": "markdown",
   "id": "9b69e45c",
   "metadata": {},
   "source": [
    "### Exercise 03 : "
   ]
  },
  {
   "cell_type": "code",
   "execution_count": 74,
   "id": "61b9dc3a",
   "metadata": {},
   "outputs": [
    {
     "name": "stdout",
     "output_type": "stream",
     "text": [
      "<class 'tuple'>\n"
     ]
    }
   ],
   "source": [
    "nordic_countries = ('Denmark' , 'Finland' , 'Iceland' , 'Norway' , 'Sweden')\n",
    "print(type(nordic_countries))"
   ]
  },
  {
   "cell_type": "code",
   "execution_count": 75,
   "id": "9bc8508e",
   "metadata": {},
   "outputs": [],
   "source": [
    "def Check_EnteranceCountry_IsInNordicCountry(cntry):\n",
    "    if cntry in nordic_countries:\n",
    "        print('True')\n",
    "    else:\n",
    "        print('False!')"
   ]
  },
  {
   "cell_type": "markdown",
   "id": "8a17ee14",
   "metadata": {},
   "source": [
    "### 1."
   ]
  },
  {
   "cell_type": "code",
   "execution_count": 76,
   "id": "6f45b614",
   "metadata": {},
   "outputs": [
    {
     "name": "stdout",
     "output_type": "stream",
     "text": [
      "False!\n"
     ]
    }
   ],
   "source": [
    "Check_EnteranceCountry_IsInNordicCountry('Estonia')"
   ]
  },
  {
   "cell_type": "markdown",
   "id": "64a57634",
   "metadata": {},
   "source": [
    "### 2."
   ]
  },
  {
   "cell_type": "code",
   "execution_count": 77,
   "id": "07e8d62d",
   "metadata": {},
   "outputs": [
    {
     "name": "stdout",
     "output_type": "stream",
     "text": [
      "True\n"
     ]
    }
   ],
   "source": [
    "Check_EnteranceCountry_IsInNordicCountry('Iceland') "
   ]
  }
 ],
 "metadata": {
  "kernelspec": {
   "display_name": "Python 3",
   "language": "python",
   "name": "python3"
  },
  "language_info": {
   "codemirror_mode": {
    "name": "ipython",
    "version": 3
   },
   "file_extension": ".py",
   "mimetype": "text/x-python",
   "name": "python",
   "nbconvert_exporter": "python",
   "pygments_lexer": "ipython3",
   "version": "3.8.8"
  }
 },
 "nbformat": 4,
 "nbformat_minor": 5
}
