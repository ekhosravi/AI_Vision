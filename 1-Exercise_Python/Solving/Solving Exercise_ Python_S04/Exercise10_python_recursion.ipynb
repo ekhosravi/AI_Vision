{
 "cells": [
  {
   "cell_type": "markdown",
   "id": "7988a4c5",
   "metadata": {},
   "source": [
    "<div style=\"text-align: center\"> <h1>Exercises 10</h1></div>\n",
    "<div style=\"text-align: center; color: red;\"> <h2>Iteration and recursion</h2></div>"
   ]
  },
  {
   "cell_type": "markdown",
   "id": "3213e078",
   "metadata": {},
   "source": [
    "<div style=\"color: white;text-align:center;background-color:darkblue;padding:5px;\"> <h2>Exercise 01</h2></div>"
   ]
  },
  {
   "cell_type": "markdown",
   "id": "22af03bb",
   "metadata": {},
   "source": [
    "<div style=\"color:darkblue;\"> <h3>Write a Python function to calculate first n numbers of Fibonacci sequence. (n is function input)</h3></div>"
   ]
  },
  {
   "cell_type": "markdown",
   "id": "b8b2f8c3",
   "metadata": {},
   "source": [
    "### points:\n",
    "### Use recursion to solve the question!"
   ]
  },
  {
   "cell_type": "code",
   "execution_count": 21,
   "id": "52561a08",
   "metadata": {},
   "outputs": [],
   "source": [
    "# f (4) = f(3) + f(2)\n",
    "# f(3) = f(2) + f(1) ==> 1 + 1 = 2\n",
    "# f(2) = f(0) + f(1) ==> 0 + 1 = 1"
   ]
  },
  {
   "cell_type": "code",
   "execution_count": 24,
   "id": "56d2d264",
   "metadata": {},
   "outputs": [],
   "source": [
    "def fibo(n):\n",
    "    if n <= 1:\n",
    "        return n\n",
    "    else:\n",
    "        return (fibo(n-1) + fibo(n-2))"
   ]
  },
  {
   "cell_type": "code",
   "execution_count": 25,
   "id": "6d0475c6",
   "metadata": {},
   "outputs": [
    {
     "name": "stdout",
     "output_type": "stream",
     "text": [
      "Number: 7\n",
      "0 1 1 2 3 5 8 "
     ]
    }
   ],
   "source": [
    "n = int(input(\"Number: \"))\n",
    "for i in range(n):\n",
    "    print(fibo(i), end = \" \")"
   ]
  },
  {
   "cell_type": "code",
   "execution_count": null,
   "id": "9ef96b54",
   "metadata": {},
   "outputs": [],
   "source": []
  }
 ],
 "metadata": {
  "kernelspec": {
   "display_name": "Python 3 (ipykernel)",
   "language": "python",
   "name": "python3"
  },
  "language_info": {
   "codemirror_mode": {
    "name": "ipython",
    "version": 3
   },
   "file_extension": ".py",
   "mimetype": "text/x-python",
   "name": "python",
   "nbconvert_exporter": "python",
   "pygments_lexer": "ipython3",
   "version": "3.10.6"
  }
 },
 "nbformat": 4,
 "nbformat_minor": 5
}
