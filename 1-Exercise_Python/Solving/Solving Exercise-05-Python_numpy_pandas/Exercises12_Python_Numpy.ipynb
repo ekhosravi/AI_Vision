{
 "cells": [
  {
   "cell_type": "markdown",
   "id": "7988a4c5",
   "metadata": {},
   "source": [
    "<div style=\"text-align: center\"> <h1>Exercises 12</h1></div>\n",
    "<div style=\"text-align: center; color: red;\"> <h2>Numpy</h2></div>"
   ]
  },
  {
   "cell_type": "markdown",
   "id": "259af9d3",
   "metadata": {},
   "source": [
    "<div style=\"color: white;text-align:center;background-color:darkblue;padding:5px;\"> <h2>Exercise 01</h2></div>"
   ]
  },
  {
   "cell_type": "markdown",
   "id": "af1e9b06",
   "metadata": {},
   "source": [
    "<div style=\"color:darkblue;\"> <h3>Create an 3d numpy array with dimensions (4, 5, 3), and print the dimensions finally.</h3></div>"
   ]
  },
  {
   "cell_type": "code",
   "execution_count": 57,
   "id": "6c54b06a",
   "metadata": {},
   "outputs": [],
   "source": [
    "import numpy as np"
   ]
  },
  {
   "cell_type": "code",
   "execution_count": 58,
   "id": "a25b4985",
   "metadata": {},
   "outputs": [],
   "source": [
    "arr = np.array([\n",
    "                [\n",
    "                    [1, 2, 3],\n",
    "                    [20, 30, 10],\n",
    "                    [3, 4, 5],\n",
    "                    [4, 5, 8],\n",
    "                    [4, 5, 7]\n",
    "                ],\n",
    "                [\n",
    "                     [1, 2, 3],\n",
    "                    [20, 30, 10],\n",
    "                    [3, 4, 5],\n",
    "                    [4, 5, 8],\n",
    "                    [4, 5, 7]\n",
    "                ],\n",
    "                [\n",
    "                     [1, 2, 3],\n",
    "                    [20, 30, 10],\n",
    "                    [3, 4, 5],\n",
    "                    [4, 5, 8],\n",
    "                    [4, 5, 7]\n",
    "                ],\n",
    "                [\n",
    "                    [1, 2, 3],\n",
    "                    [20, 30, 10],\n",
    "                    [3, 4, 5],\n",
    "                    [4, 5, 8],\n",
    "                    [4, 5, 7]\n",
    "                ]\n",
    "              ])"
   ]
  },
  {
   "cell_type": "code",
   "execution_count": 61,
   "id": "9e712333",
   "metadata": {},
   "outputs": [
    {
     "name": "stdout",
     "output_type": "stream",
     "text": [
      "shape: (4, 5, 3)\n",
      "dimention: 3\n"
     ]
    }
   ],
   "source": [
    "print(f\"shape: {arr.shape}\")\n",
    "print(f\"dimention: {arr.ndim}\")"
   ]
  },
  {
   "cell_type": "markdown",
   "id": "02c8e947",
   "metadata": {},
   "source": [
    "<div style=\"color: white;text-align:center;background-color:darkblue;padding:5px;\"> <h2>Exercise 02</h2></div>"
   ]
  },
  {
   "cell_type": "markdown",
   "id": "29f11f93",
   "metadata": {},
   "source": [
    "<div style=\"color:darkblue;\"> <h3>change the shape of created array in the exercise 01 to (20, 3) and check the current dimensions! </h3></div>"
   ]
  },
  {
   "cell_type": "code",
   "execution_count": 63,
   "id": "af5eda0b",
   "metadata": {},
   "outputs": [
    {
     "name": "stdout",
     "output_type": "stream",
     "text": [
      "shape: (20, 3)\n"
     ]
    }
   ],
   "source": [
    "new_arr = arr.reshape(20, 3)\n",
    "#print(new_arr)\n",
    "print(f\"shape: {new_arr.shape}\")"
   ]
  },
  {
   "cell_type": "markdown",
   "id": "38e0e25f",
   "metadata": {},
   "source": [
    "<div style=\"color: white;text-align:center;background-color:darkblue;padding:5px;\"> <h2>Exercise 03</h2></div>"
   ]
  },
  {
   "cell_type": "markdown",
   "id": "09e058fc",
   "metadata": {},
   "source": [
    "<div style=\"color:darkblue;\"> <h3>index and print the number 50 from the arr.</h3></div>"
   ]
  },
  {
   "cell_type": "markdown",
   "id": "c48f4cf6",
   "metadata": {},
   "source": [
    "### arr = np.array([[10, 20, 30, 40], [50, 60, 70, 80]])"
   ]
  },
  {
   "cell_type": "code",
   "execution_count": 64,
   "id": "1ada8790",
   "metadata": {},
   "outputs": [
    {
     "data": {
      "text/plain": [
       "50"
      ]
     },
     "execution_count": 64,
     "metadata": {},
     "output_type": "execute_result"
    }
   ],
   "source": [
    "arr = np.array([\n",
    "        [10, 20, 30, 40],\n",
    "        [50, 60, 70, 80]\n",
    "    ])\n",
    "arr[1,0]"
   ]
  },
  {
   "cell_type": "markdown",
   "id": "0d1c433e",
   "metadata": {},
   "source": [
    "<div style=\"color: white;text-align:center;background-color:darkblue;padding:5px;\"> <h2>Exercise 04</h2></div>"
   ]
  },
  {
   "cell_type": "markdown",
   "id": "9fa578da",
   "metadata": {},
   "source": [
    "<div style=\"color:darkblue;\"> <h3>Change the element datatype of the arr to float!</h3></div>"
   ]
  },
  {
   "cell_type": "markdown",
   "id": "31efe29c",
   "metadata": {},
   "source": [
    "### arr = np.array([[10, 20, 30, 40], [50, 60, 70, 80]])"
   ]
  },
  {
   "cell_type": "code",
   "execution_count": 71,
   "id": "bd9b40cf",
   "metadata": {},
   "outputs": [
    {
     "data": {
      "text/plain": [
       "array([[10., 20., 30., 40.],\n",
       "       [50., 60., 70., 80.]])"
      ]
     },
     "execution_count": 71,
     "metadata": {},
     "output_type": "execute_result"
    }
   ],
   "source": [
    "arr = np.array([[10, 20, 30, 40], [50, 60, 70, 80]])\n",
    "arr.astype(float)"
   ]
  },
  {
   "cell_type": "code",
   "execution_count": 72,
   "id": "c196f258",
   "metadata": {},
   "outputs": [
    {
     "data": {
      "text/plain": [
       "array([[10, 20, 30, 40],\n",
       "       [50, 60, 70, 80]])"
      ]
     },
     "execution_count": 72,
     "metadata": {},
     "output_type": "execute_result"
    }
   ],
   "source": [
    "arr"
   ]
  },
  {
   "cell_type": "code",
   "execution_count": 75,
   "id": "c947becf",
   "metadata": {},
   "outputs": [
    {
     "data": {
      "text/plain": [
       "array([[10., 20., 30., 40.],\n",
       "       [50., 60., 70., 80.]])"
      ]
     },
     "execution_count": 75,
     "metadata": {},
     "output_type": "execute_result"
    }
   ],
   "source": [
    "np.float64(arr)"
   ]
  },
  {
   "cell_type": "code",
   "execution_count": 77,
   "id": "50e1ee45",
   "metadata": {},
   "outputs": [
    {
     "data": {
      "text/plain": [
       "array([[10., 20., 30., 40.],\n",
       "       [50., 60., 70., 80.]])"
      ]
     },
     "execution_count": 77,
     "metadata": {},
     "output_type": "execute_result"
    }
   ],
   "source": [
    "arr = np.array([[10, 20, 30, 40], [50, 60, 70, 80]], dtype = \"d\")\n",
    "arr"
   ]
  },
  {
   "cell_type": "markdown",
   "id": "6eecbdf4",
   "metadata": {},
   "source": [
    "<div style=\"color: white;text-align:center;background-color:darkblue;padding:5px;\"> <h2>Exercise 05</h2></div>"
   ]
  },
  {
   "cell_type": "markdown",
   "id": "a6d11b5a",
   "metadata": {},
   "source": [
    "<div style=\"color:darkblue;\"> <h3>join arr1 and arr2 into a single array!</h3></div>"
   ]
  },
  {
   "cell_type": "markdown",
   "id": "e0a41bd8",
   "metadata": {},
   "source": [
    "### arr1 = np.array([1, 2, 3])\n",
    "### arr2 = np.array([4, 5, 6])"
   ]
  },
  {
   "cell_type": "code",
   "execution_count": 90,
   "id": "12906f65",
   "metadata": {},
   "outputs": [],
   "source": [
    "arr1 = np.array([1, 2, 3,4])\n",
    "arr2 = np.array([4, 5, 6, 7])"
   ]
  },
  {
   "cell_type": "code",
   "execution_count": 89,
   "id": "8607f5fd",
   "metadata": {},
   "outputs": [
    {
     "name": "stdout",
     "output_type": "stream",
     "text": [
      "[[1 2]\n",
      " [3 4]\n",
      " [4 5]\n",
      " [6 7]]\n"
     ]
    }
   ],
   "source": [
    "arr3 = np.concatenate((arr1, arr2))\n",
    "print(arr3)"
   ]
  },
  {
   "cell_type": "code",
   "execution_count": 92,
   "id": "c5c3d18f",
   "metadata": {},
   "outputs": [
    {
     "name": "stdout",
     "output_type": "stream",
     "text": [
      "[[1 2 3 4]\n",
      " [4 5 6 7]]\n"
     ]
    }
   ],
   "source": [
    "arr3 = np.stack((arr1, arr2))\n",
    "print(arr3)"
   ]
  },
  {
   "cell_type": "code",
   "execution_count": 96,
   "id": "94000bde",
   "metadata": {},
   "outputs": [
    {
     "name": "stdout",
     "output_type": "stream",
     "text": [
      "[1 2 3 4 4 5 6 7]\n"
     ]
    }
   ],
   "source": [
    "arr3 = np.hstack((arr1, arr2)) #row\n",
    "print(arr3)"
   ]
  },
  {
   "cell_type": "code",
   "execution_count": 97,
   "id": "02cc52ca",
   "metadata": {},
   "outputs": [
    {
     "name": "stdout",
     "output_type": "stream",
     "text": [
      "[[1 2 3 4]\n",
      " [4 5 6 7]]\n"
     ]
    }
   ],
   "source": [
    "arr3 = np.vstack((arr1, arr2)) #column\n",
    "print(arr3)"
   ]
  },
  {
   "cell_type": "code",
   "execution_count": 98,
   "id": "98583631",
   "metadata": {},
   "outputs": [
    {
     "name": "stdout",
     "output_type": "stream",
     "text": [
      "[[[1 4]\n",
      "  [2 5]\n",
      "  [3 6]\n",
      "  [4 7]]]\n"
     ]
    }
   ],
   "source": [
    "arr3 = np.dstack((arr1, arr2)) #depth\n",
    "print(arr3)"
   ]
  },
  {
   "cell_type": "code",
   "execution_count": null,
   "id": "8474a424",
   "metadata": {},
   "outputs": [],
   "source": []
  }
 ],
 "metadata": {
  "kernelspec": {
   "display_name": "Python 3 (ipykernel)",
   "language": "python",
   "name": "python3"
  },
  "language_info": {
   "codemirror_mode": {
    "name": "ipython",
    "version": 3
   },
   "file_extension": ".py",
   "mimetype": "text/x-python",
   "name": "python",
   "nbconvert_exporter": "python",
   "pygments_lexer": "ipython3",
   "version": "3.9.13"
  }
 },
 "nbformat": 4,
 "nbformat_minor": 5
}
