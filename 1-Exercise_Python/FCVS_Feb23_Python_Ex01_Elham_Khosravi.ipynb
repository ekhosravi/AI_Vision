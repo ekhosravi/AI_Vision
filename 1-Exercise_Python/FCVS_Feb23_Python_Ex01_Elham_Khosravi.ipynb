{
 "cells": [
  {
   "cell_type": "markdown",
   "id": "ef393dcd",
   "metadata": {},
   "source": [
    "### Ex01 : "
   ]
  },
  {
   "cell_type": "code",
   "execution_count": 9,
   "id": "65f2a9f2",
   "metadata": {},
   "outputs": [],
   "source": [
    "def get_type(text):\n",
    "    print(type(text))"
   ]
  },
  {
   "cell_type": "code",
   "execution_count": 10,
   "id": "0f5367b7",
   "metadata": {},
   "outputs": [
    {
     "name": "stdout",
     "output_type": "stream",
     "text": [
      "<class 'str'>\n"
     ]
    }
   ],
   "source": [
    "get_type(\"Filoger\")"
   ]
  },
  {
   "cell_type": "code",
   "execution_count": 11,
   "id": "5d5e5898",
   "metadata": {},
   "outputs": [
    {
     "name": "stdout",
     "output_type": "stream",
     "text": [
      "<class 'str'>\n"
     ]
    }
   ],
   "source": [
    "get_type(\"19.0\")"
   ]
  },
  {
   "cell_type": "code",
   "execution_count": 12,
   "id": "a26b35be",
   "metadata": {},
   "outputs": [
    {
     "name": "stdout",
     "output_type": "stream",
     "text": [
      "<class 'int'>\n"
     ]
    }
   ],
   "source": [
    "get_type(18)"
   ]
  },
  {
   "cell_type": "code",
   "execution_count": 13,
   "id": "6495b1bc",
   "metadata": {},
   "outputs": [
    {
     "name": "stdout",
     "output_type": "stream",
     "text": [
      "<class 'float'>\n"
     ]
    }
   ],
   "source": [
    "get_type(13.0)"
   ]
  },
  {
   "cell_type": "code",
   "execution_count": 22,
   "id": "2a44e1f8",
   "metadata": {},
   "outputs": [
    {
     "name": "stdout",
     "output_type": "stream",
     "text": [
      "<class 'bool'>\n"
     ]
    }
   ],
   "source": [
    "get_type(True)"
   ]
  },
  {
   "cell_type": "markdown",
   "id": "09593c77",
   "metadata": {},
   "source": [
    "### Ex02 : "
   ]
  },
  {
   "cell_type": "code",
   "execution_count": 16,
   "id": "9f46d2f4",
   "metadata": {},
   "outputs": [],
   "source": [
    "def Convert_To_Int(text):\n",
    "    print(int(text))"
   ]
  },
  {
   "cell_type": "code",
   "execution_count": 17,
   "id": "6552ec49",
   "metadata": {},
   "outputs": [
    {
     "ename": "ValueError",
     "evalue": "invalid literal for int() with base 10: 'Filoger'",
     "output_type": "error",
     "traceback": [
      "\u001b[1;31m---------------------------------------------------------------------------\u001b[0m",
      "\u001b[1;31mValueError\u001b[0m                                Traceback (most recent call last)",
      "\u001b[1;32m<ipython-input-17-d68e24b298f8>\u001b[0m in \u001b[0;36m<module>\u001b[1;34m\u001b[0m\n\u001b[1;32m----> 1\u001b[1;33m \u001b[0mConvert_To_Int\u001b[0m\u001b[1;33m(\u001b[0m\u001b[1;34m\"Filoger\"\u001b[0m\u001b[1;33m)\u001b[0m\u001b[1;33m\u001b[0m\u001b[1;33m\u001b[0m\u001b[0m\n\u001b[0m",
      "\u001b[1;32m<ipython-input-16-ae82255eec6c>\u001b[0m in \u001b[0;36mConvert_To_Int\u001b[1;34m(text)\u001b[0m\n\u001b[0;32m      1\u001b[0m \u001b[1;32mdef\u001b[0m \u001b[0mConvert_To_Int\u001b[0m\u001b[1;33m(\u001b[0m\u001b[0mtext\u001b[0m\u001b[1;33m)\u001b[0m\u001b[1;33m:\u001b[0m\u001b[1;33m\u001b[0m\u001b[1;33m\u001b[0m\u001b[0m\n\u001b[1;32m----> 2\u001b[1;33m     \u001b[0mprint\u001b[0m\u001b[1;33m(\u001b[0m\u001b[0mint\u001b[0m\u001b[1;33m(\u001b[0m\u001b[0mtext\u001b[0m\u001b[1;33m)\u001b[0m\u001b[1;33m)\u001b[0m\u001b[1;33m\u001b[0m\u001b[1;33m\u001b[0m\u001b[0m\n\u001b[0m",
      "\u001b[1;31mValueError\u001b[0m: invalid literal for int() with base 10: 'Filoger'"
     ]
    }
   ],
   "source": [
    "Convert_To_Int(\"Filoger\")"
   ]
  },
  {
   "cell_type": "code",
   "execution_count": 18,
   "id": "4f9a782f",
   "metadata": {},
   "outputs": [
    {
     "ename": "ValueError",
     "evalue": "invalid literal for int() with base 10: '19.0'",
     "output_type": "error",
     "traceback": [
      "\u001b[1;31m---------------------------------------------------------------------------\u001b[0m",
      "\u001b[1;31mValueError\u001b[0m                                Traceback (most recent call last)",
      "\u001b[1;32m<ipython-input-18-1a616f4dbee8>\u001b[0m in \u001b[0;36m<module>\u001b[1;34m\u001b[0m\n\u001b[1;32m----> 1\u001b[1;33m \u001b[0mConvert_To_Int\u001b[0m\u001b[1;33m(\u001b[0m\u001b[1;34m\"19.0\"\u001b[0m\u001b[1;33m)\u001b[0m\u001b[1;33m\u001b[0m\u001b[1;33m\u001b[0m\u001b[0m\n\u001b[0m",
      "\u001b[1;32m<ipython-input-16-ae82255eec6c>\u001b[0m in \u001b[0;36mConvert_To_Int\u001b[1;34m(text)\u001b[0m\n\u001b[0;32m      1\u001b[0m \u001b[1;32mdef\u001b[0m \u001b[0mConvert_To_Int\u001b[0m\u001b[1;33m(\u001b[0m\u001b[0mtext\u001b[0m\u001b[1;33m)\u001b[0m\u001b[1;33m:\u001b[0m\u001b[1;33m\u001b[0m\u001b[1;33m\u001b[0m\u001b[0m\n\u001b[1;32m----> 2\u001b[1;33m     \u001b[0mprint\u001b[0m\u001b[1;33m(\u001b[0m\u001b[0mint\u001b[0m\u001b[1;33m(\u001b[0m\u001b[0mtext\u001b[0m\u001b[1;33m)\u001b[0m\u001b[1;33m)\u001b[0m\u001b[1;33m\u001b[0m\u001b[1;33m\u001b[0m\u001b[0m\n\u001b[0m",
      "\u001b[1;31mValueError\u001b[0m: invalid literal for int() with base 10: '19.0'"
     ]
    }
   ],
   "source": [
    "Convert_To_Int(\"19.0\")"
   ]
  },
  {
   "cell_type": "code",
   "execution_count": 19,
   "id": "b248e9b3",
   "metadata": {},
   "outputs": [
    {
     "name": "stdout",
     "output_type": "stream",
     "text": [
      "18\n"
     ]
    }
   ],
   "source": [
    "Convert_To_Int(18)"
   ]
  },
  {
   "cell_type": "code",
   "execution_count": 20,
   "id": "2f16ae33",
   "metadata": {},
   "outputs": [
    {
     "name": "stdout",
     "output_type": "stream",
     "text": [
      "13\n"
     ]
    }
   ],
   "source": [
    "Convert_To_Int(13.0)"
   ]
  },
  {
   "cell_type": "code",
   "execution_count": 21,
   "id": "0a7cdc8a",
   "metadata": {},
   "outputs": [
    {
     "name": "stdout",
     "output_type": "stream",
     "text": [
      "1\n"
     ]
    }
   ],
   "source": [
    "Convert_To_Int(True)"
   ]
  },
  {
   "cell_type": "markdown",
   "id": "7e1cc7a0",
   "metadata": {},
   "source": [
    "### Ex03 : "
   ]
  },
  {
   "cell_type": "code",
   "execution_count": 33,
   "id": "9fd58f8d",
   "metadata": {},
   "outputs": [],
   "source": [
    "import sys\n"
   ]
  },
  {
   "cell_type": "code",
   "execution_count": 34,
   "id": "6b17903c",
   "metadata": {},
   "outputs": [],
   "source": [
    "\n",
    "def sizeOfVariable(text):\n",
    "    print(sys.getsizeof(text))"
   ]
  },
  {
   "cell_type": "code",
   "execution_count": 35,
   "id": "d75f687a",
   "metadata": {},
   "outputs": [
    {
     "name": "stdout",
     "output_type": "stream",
     "text": [
      "56\n"
     ]
    }
   ],
   "source": [
    "sizeOfVariable(\"Filoger\")"
   ]
  },
  {
   "cell_type": "code",
   "execution_count": 36,
   "id": "705b44ba",
   "metadata": {},
   "outputs": [
    {
     "name": "stdout",
     "output_type": "stream",
     "text": [
      "53\n"
     ]
    }
   ],
   "source": [
    "sizeOfVariable(\"19.0\")"
   ]
  },
  {
   "cell_type": "code",
   "execution_count": 37,
   "id": "7447f8e6",
   "metadata": {},
   "outputs": [
    {
     "name": "stdout",
     "output_type": "stream",
     "text": [
      "28\n"
     ]
    }
   ],
   "source": [
    "sizeOfVariable(18)"
   ]
  },
  {
   "cell_type": "code",
   "execution_count": 38,
   "id": "c5b5f592",
   "metadata": {},
   "outputs": [
    {
     "name": "stdout",
     "output_type": "stream",
     "text": [
      "24\n"
     ]
    }
   ],
   "source": [
    "sizeOfVariable(13.0)"
   ]
  },
  {
   "cell_type": "code",
   "execution_count": 39,
   "id": "89ca21b3",
   "metadata": {},
   "outputs": [
    {
     "name": "stdout",
     "output_type": "stream",
     "text": [
      "28\n"
     ]
    }
   ],
   "source": [
    "sizeOfVariable(True)"
   ]
  },
  {
   "cell_type": "markdown",
   "id": "f0140ff5",
   "metadata": {},
   "source": [
    "### Ex04 : "
   ]
  },
  {
   "cell_type": "code",
   "execution_count": 10,
   "id": "6c15cfeb",
   "metadata": {},
   "outputs": [],
   "source": [
    "import time"
   ]
  },
  {
   "cell_type": "code",
   "execution_count": 11,
   "id": "cc61623f",
   "metadata": {},
   "outputs": [],
   "source": [
    "def RunningTime_OF_get_type(text):\n",
    "    \n",
    "    #starting time\n",
    "    start = time.time()\n",
    "\n",
    "    print(type(text))\n",
    "\n",
    "    # end time\n",
    "    end = time.time()\n",
    "\n",
    "    # total time taken\n",
    "    print(\"Execution time of the program to find type is - \", end-start)"
   ]
  },
  {
   "cell_type": "code",
   "execution_count": 12,
   "id": "5cd42c7a",
   "metadata": {},
   "outputs": [
    {
     "name": "stdout",
     "output_type": "stream",
     "text": [
      "<class 'str'>\n",
      "Execution time of the program to find type is -  0.0\n"
     ]
    }
   ],
   "source": [
    "RunningTime_OF_get_type(\"Filoger\")"
   ]
  },
  {
   "cell_type": "code",
   "execution_count": 13,
   "id": "f42fa6c5",
   "metadata": {},
   "outputs": [
    {
     "name": "stdout",
     "output_type": "stream",
     "text": [
      "<class 'str'>\n",
      "Execution time of the program to find type is -  0.0\n"
     ]
    }
   ],
   "source": [
    "RunningTime_OF_get_type(\"19.0\")"
   ]
  },
  {
   "cell_type": "code",
   "execution_count": 14,
   "id": "f0f8eee4",
   "metadata": {},
   "outputs": [
    {
     "name": "stdout",
     "output_type": "stream",
     "text": [
      "<class 'int'>\n",
      "Execution time of the program to find type is -  0.0\n"
     ]
    }
   ],
   "source": [
    "RunningTime_OF_get_type(18)"
   ]
  },
  {
   "cell_type": "code",
   "execution_count": 15,
   "id": "3b825cc2",
   "metadata": {},
   "outputs": [
    {
     "name": "stdout",
     "output_type": "stream",
     "text": [
      "<class 'float'>\n",
      "Execution time of the program to find type is -  0.0\n"
     ]
    }
   ],
   "source": [
    "RunningTime_OF_get_type(13.0)"
   ]
  },
  {
   "cell_type": "code",
   "execution_count": 48,
   "id": "e43166c3",
   "metadata": {},
   "outputs": [
    {
     "name": "stdout",
     "output_type": "stream",
     "text": [
      "<class 'bool'>\n",
      "Execution time of the program to find type is -  0.0\n"
     ]
    }
   ],
   "source": [
    "RunningTime_OF_get_type(True)"
   ]
  },
  {
   "cell_type": "code",
   "execution_count": 17,
   "id": "92e8abd6",
   "metadata": {},
   "outputs": [
    {
     "name": "stdout",
     "output_type": "stream",
     "text": [
      "Execution time of the program to find type is -  0.0\n"
     ]
    }
   ],
   "source": [
    "\n",
    "    #starting time\n",
    "    start = time.time()\n",
    "\n",
    "    type(13.0)\n",
    "\n",
    "    # end time\n",
    "    end = time.time()\n",
    "    print(\"Execution time of the program to find type is - \", end-start)"
   ]
  },
  {
   "cell_type": "code",
   "execution_count": null,
   "id": "04659858",
   "metadata": {},
   "outputs": [],
   "source": []
  }
 ],
 "metadata": {
  "kernelspec": {
   "display_name": "Python 3",
   "language": "python",
   "name": "python3"
  },
  "language_info": {
   "codemirror_mode": {
    "name": "ipython",
    "version": 3
   },
   "file_extension": ".py",
   "mimetype": "text/x-python",
   "name": "python",
   "nbconvert_exporter": "python",
   "pygments_lexer": "ipython3",
   "version": "3.8.8"
  }
 },
 "nbformat": 4,
 "nbformat_minor": 5
}
