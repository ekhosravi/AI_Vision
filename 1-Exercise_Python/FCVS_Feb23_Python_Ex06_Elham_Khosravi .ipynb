{
 "cells": [
  {
   "cell_type": "markdown",
   "id": "5e748822",
   "metadata": {},
   "source": [
    "### Exercise 01 : "
   ]
  },
  {
   "cell_type": "markdown",
   "id": "f20c28f2",
   "metadata": {},
   "source": [
    "### 1."
   ]
  },
  {
   "cell_type": "code",
   "execution_count": 115,
   "id": "8782d498",
   "metadata": {},
   "outputs": [
    {
     "name": "stdout",
     "output_type": "stream",
     "text": [
      "<class 'dict'>\n",
      "{}\n"
     ]
    }
   ],
   "source": [
    "dog = dict()\n",
    "print(type(dog))\n",
    "print(dog)"
   ]
  },
  {
   "cell_type": "markdown",
   "id": "166dcede",
   "metadata": {},
   "source": [
    "### 2."
   ]
  },
  {
   "cell_type": "code",
   "execution_count": 116,
   "id": "3ca9ca8b",
   "metadata": {},
   "outputs": [],
   "source": [
    "dog['name'] = 'Fred'\n",
    "\n",
    "dog['color'] = 'black'\n",
    " \n",
    "dog['breed'] = 'german'\n",
    " \n",
    "dog['legs'] = 'white'\n",
    "\n",
    "dog['age'] = '2'"
   ]
  },
  {
   "cell_type": "code",
   "execution_count": 117,
   "id": "e62a2ed8",
   "metadata": {},
   "outputs": [
    {
     "name": "stdout",
     "output_type": "stream",
     "text": [
      "{'name': 'Fred', 'color': 'black', 'breed': 'german', 'legs': 'white', 'age': '2'}\n"
     ]
    }
   ],
   "source": [
    "print(dog)"
   ]
  },
  {
   "cell_type": "markdown",
   "id": "4553f3ef",
   "metadata": {},
   "source": [
    "### Exercise 02 : "
   ]
  },
  {
   "cell_type": "markdown",
   "id": "11a2fc7e",
   "metadata": {},
   "source": [
    "### 1."
   ]
  },
  {
   "cell_type": "code",
   "execution_count": 118,
   "id": "1bc71235",
   "metadata": {},
   "outputs": [
    {
     "name": "stdout",
     "output_type": "stream",
     "text": [
      "dict_items([('first_name', 'Elham'), ('last_name', 'Khosravi'), ('gender', 'female'), ('age', 33), ('skills', ['Data Scientist', 'ML Engineer', 'web designer']), ('country', 'Iran'), ('city', 'Esfahan'), ('address', 'Mirdamad st., 57 Alley')])\n"
     ]
    }
   ],
   "source": [
    "student = {\n",
    "  'first_name': 'Elham',\n",
    "  'last_name' : 'Khosravi',\n",
    "  'gender': 'female',\n",
    "  'age': 33,\n",
    "  'skills': ['Data Scientist', 'ML Engineer' , 'web designer'],\n",
    "  'country': 'Iran',\n",
    "  'city': 'Esfahan',\n",
    "  'address': 'Mirdamad st., 57 Alley'\n",
    "}\n",
    "print(student.items())"
   ]
  },
  {
   "cell_type": "code",
   "execution_count": 119,
   "id": "f2da5acb",
   "metadata": {},
   "outputs": [],
   "source": [
    "def Print_dic_Student(input_dic):\n",
    "    for i, j in input_dic.items():\n",
    "        print(i, ' : ', j)"
   ]
  },
  {
   "cell_type": "code",
   "execution_count": 120,
   "id": "975782f7",
   "metadata": {},
   "outputs": [
    {
     "name": "stdout",
     "output_type": "stream",
     "text": [
      "first_name  :  Elham\n",
      "last_name  :  Khosravi\n",
      "gender  :  female\n",
      "age  :  33\n",
      "skills  :  ['Data Scientist', 'ML Engineer', 'web designer']\n",
      "country  :  Iran\n",
      "city  :  Esfahan\n",
      "address  :  Mirdamad st., 57 Alley\n"
     ]
    }
   ],
   "source": [
    "Print_dic_Student(student)"
   ]
  },
  {
   "cell_type": "markdown",
   "id": "cf8fb382",
   "metadata": {},
   "source": [
    "### 2."
   ]
  },
  {
   "cell_type": "code",
   "execution_count": 121,
   "id": "f6d8e9b0",
   "metadata": {},
   "outputs": [
    {
     "name": "stdout",
     "output_type": "stream",
     "text": [
      "the length of the student dictionary is : 8\n"
     ]
    }
   ],
   "source": [
    "print(\"the length of the student dictionary is : {}\".format(len(student))) "
   ]
  },
  {
   "cell_type": "markdown",
   "id": "fdb95db2",
   "metadata": {},
   "source": [
    "### 3."
   ]
  },
  {
   "cell_type": "code",
   "execution_count": 122,
   "id": "ee9619e3",
   "metadata": {},
   "outputs": [
    {
     "name": "stdout",
     "output_type": "stream",
     "text": [
      "the value of skills are  : ['Data Scientist', 'ML Engineer', 'web designer']\n",
      "\n",
      "the data type of skills key in dictionary is : <class 'list'>\n"
     ]
    }
   ],
   "source": [
    "print(\"the value of skills are  : {}\".format(student['skills']))\n",
    "print(\"\\nthe data type of skills key in dictionary is : {}\".format(type(student['skills'])))"
   ]
  },
  {
   "cell_type": "markdown",
   "id": "eecf5960",
   "metadata": {},
   "source": [
    "### 4."
   ]
  },
  {
   "cell_type": "code",
   "execution_count": 123,
   "id": "b19afef5",
   "metadata": {},
   "outputs": [
    {
     "name": "stdout",
     "output_type": "stream",
     "text": [
      "['Data Scientist', 'ML Engineer', 'web designer', 'Asp.Net MVC', 'RestfulAPI']\n",
      "\n",
      "\n",
      "first_name  :  Elham\n",
      "last_name  :  Khosravi\n",
      "gender  :  female\n",
      "age  :  33\n",
      "skills  :  ['Data Scientist', 'ML Engineer', 'web designer', 'Asp.Net MVC', 'RestfulAPI']\n",
      "country  :  Iran\n",
      "city  :  Esfahan\n",
      "address  :  Mirdamad st., 57 Alley\n"
     ]
    }
   ],
   "source": [
    "student['skills'].append('Asp.Net MVC')\n",
    "student['skills'].append('RestfulAPI')\n",
    "print(student['skills'])\n",
    "print('\\n')\n",
    "Print_dic_Student(student)"
   ]
  },
  {
   "cell_type": "markdown",
   "id": "db7bab8c",
   "metadata": {},
   "source": [
    "### 5."
   ]
  },
  {
   "cell_type": "code",
   "execution_count": 124,
   "id": "8ee92603",
   "metadata": {},
   "outputs": [
    {
     "name": "stdout",
     "output_type": "stream",
     "text": [
      "['first_name', 'last_name', 'gender', 'age', 'skills', 'country', 'city', 'address']\n",
      "<class 'list'>\n"
     ]
    }
   ],
   "source": [
    "keys = list(student.keys())\n",
    "print(keys) \n",
    "print(type(keys)) "
   ]
  },
  {
   "cell_type": "markdown",
   "id": "857b10ca",
   "metadata": {},
   "source": [
    "### 6."
   ]
  },
  {
   "cell_type": "code",
   "execution_count": 125,
   "id": "9d3802e6",
   "metadata": {},
   "outputs": [
    {
     "name": "stdout",
     "output_type": "stream",
     "text": [
      "['Elham', 'Khosravi', 'female', 33, ['Data Scientist', 'ML Engineer', 'web designer', 'Asp.Net MVC', 'RestfulAPI'], 'Iran', 'Esfahan', 'Mirdamad st., 57 Alley']\n",
      "<class 'list'>\n"
     ]
    }
   ],
   "source": [
    "values = list(student.values())\n",
    "print(values) \n",
    "print(type(values)) "
   ]
  },
  {
   "cell_type": "markdown",
   "id": "4e85a17f",
   "metadata": {},
   "source": [
    "### 7."
   ]
  },
  {
   "cell_type": "code",
   "execution_count": 126,
   "id": "c99cbf92",
   "metadata": {},
   "outputs": [
    {
     "name": "stdout",
     "output_type": "stream",
     "text": [
      "<class 'dict_items'>\n"
     ]
    }
   ],
   "source": [
    "print(type(student.items()))"
   ]
  },
  {
   "cell_type": "code",
   "execution_count": 127,
   "id": "d820ec6e",
   "metadata": {},
   "outputs": [
    {
     "name": "stdout",
     "output_type": "stream",
     "text": [
      "type of list_of_tuples is : <class 'list'> \n",
      "\n",
      "[('first_name', 'Elham'), ('last_name', 'Khosravi'), ('gender', 'female'), ('age', 33), ('skills', ['Data Scientist', 'ML Engineer', 'web designer', 'Asp.Net MVC', 'RestfulAPI']), ('country', 'Iran'), ('city', 'Esfahan'), ('address', 'Mirdamad st., 57 Alley')]\n"
     ]
    }
   ],
   "source": [
    "list_of_tuples = list(student.items())\n",
    "print(\"type of list_of_tuples is : {} \\n\".format(type(list_of_tuples)))\n",
    "print(list_of_tuples)"
   ]
  },
  {
   "cell_type": "markdown",
   "id": "0442bf06",
   "metadata": {},
   "source": [
    "### 8."
   ]
  },
  {
   "cell_type": "code",
   "execution_count": 128,
   "id": "84a56b31",
   "metadata": {},
   "outputs": [
    {
     "name": "stdout",
     "output_type": "stream",
     "text": [
      "first_name  :  Elham\n",
      "last_name  :  Khosravi\n",
      "gender  :  female\n",
      "skills  :  ['Data Scientist', 'ML Engineer', 'web designer', 'Asp.Net MVC', 'RestfulAPI']\n",
      "country  :  Iran\n",
      "city  :  Esfahan\n",
      "address  :  Mirdamad st., 57 Alley\n"
     ]
    }
   ],
   "source": [
    "del(student['age'])\n",
    "Print_dic_Student(student)"
   ]
  },
  {
   "cell_type": "markdown",
   "id": "e1b905ca",
   "metadata": {},
   "source": [
    "### 9."
   ]
  },
  {
   "cell_type": "code",
   "execution_count": 129,
   "id": "5dc2bde2",
   "metadata": {},
   "outputs": [],
   "source": [
    "for i in range(len(student)):\n",
    "    student.popitem()"
   ]
  },
  {
   "cell_type": "code",
   "execution_count": 130,
   "id": "2fbabaa4",
   "metadata": {},
   "outputs": [
    {
     "name": "stdout",
     "output_type": "stream",
     "text": [
      "{}\n"
     ]
    }
   ],
   "source": [
    "print(student)"
   ]
  },
  {
   "cell_type": "code",
   "execution_count": 131,
   "id": "832f3667",
   "metadata": {},
   "outputs": [
    {
     "name": "stdout",
     "output_type": "stream",
     "text": [
      "<class 'dict'>\n"
     ]
    }
   ],
   "source": [
    "print(type(student))"
   ]
  },
  {
   "cell_type": "code",
   "execution_count": null,
   "id": "cdb741eb",
   "metadata": {},
   "outputs": [],
   "source": []
  }
 ],
 "metadata": {
  "kernelspec": {
   "display_name": "Python 3",
   "language": "python",
   "name": "python3"
  },
  "language_info": {
   "codemirror_mode": {
    "name": "ipython",
    "version": 3
   },
   "file_extension": ".py",
   "mimetype": "text/x-python",
   "name": "python",
   "nbconvert_exporter": "python",
   "pygments_lexer": "ipython3",
   "version": "3.8.8"
  }
 },
 "nbformat": 4,
 "nbformat_minor": 5
}
