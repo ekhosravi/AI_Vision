{
 "cells": [
  {
   "cell_type": "markdown",
   "id": "41b5f73b",
   "metadata": {},
   "source": [
    "#                            Exercise 12"
   ]
  },
  {
   "cell_type": "markdown",
   "id": "5e748822",
   "metadata": {},
   "source": [
    "### Exercise 01 : "
   ]
  },
  {
   "cell_type": "code",
   "execution_count": 51,
   "id": "1f020d8b",
   "metadata": {},
   "outputs": [
    {
     "name": "stdout",
     "output_type": "stream",
     "text": [
      "the dimensions of created array :  3\n",
      "the shape of created array :  (4, 5, 3)\n"
     ]
    }
   ],
   "source": [
    "import numpy as np\n",
    "\n",
    "arr = np.random.randint(1000 , size=(4,5,3))\n",
    "print('the dimensions of created array : ' , arr.ndim)\n",
    "print('the shape of created array : ' , arr.shape )"
   ]
  },
  {
   "cell_type": "code",
   "execution_count": 52,
   "id": "fbe89bc7",
   "metadata": {},
   "outputs": [
    {
     "data": {
      "text/plain": [
       "array([[[746, 453, 733],\n",
       "        [554, 551, 989],\n",
       "        [682, 879, 293],\n",
       "        [ 31, 956, 999],\n",
       "        [880, 741, 534]],\n",
       "\n",
       "       [[577, 616, 542],\n",
       "        [400, 931, 694],\n",
       "        [382, 677, 873],\n",
       "        [886, 289, 801],\n",
       "        [570, 917, 863]],\n",
       "\n",
       "       [[882, 535,  36],\n",
       "        [400, 677, 431],\n",
       "        [711, 704, 273],\n",
       "        [124,  10, 119],\n",
       "        [286, 782, 167]],\n",
       "\n",
       "       [[  2, 241, 236],\n",
       "        [ 40, 712,  30],\n",
       "        [754, 496, 696],\n",
       "        [900, 471, 819],\n",
       "        [ 91, 663, 622]]])"
      ]
     },
     "execution_count": 52,
     "metadata": {},
     "output_type": "execute_result"
    }
   ],
   "source": [
    "arr"
   ]
  },
  {
   "cell_type": "markdown",
   "id": "4553f3ef",
   "metadata": {},
   "source": [
    "### Exercise 02 : "
   ]
  },
  {
   "cell_type": "code",
   "execution_count": 53,
   "id": "7303a67a",
   "metadata": {},
   "outputs": [
    {
     "data": {
      "text/plain": [
       "array([[746, 453, 733],\n",
       "       [554, 551, 989],\n",
       "       [682, 879, 293],\n",
       "       [ 31, 956, 999],\n",
       "       [880, 741, 534],\n",
       "       [577, 616, 542],\n",
       "       [400, 931, 694],\n",
       "       [382, 677, 873],\n",
       "       [886, 289, 801],\n",
       "       [570, 917, 863],\n",
       "       [882, 535,  36],\n",
       "       [400, 677, 431],\n",
       "       [711, 704, 273],\n",
       "       [124,  10, 119],\n",
       "       [286, 782, 167],\n",
       "       [  2, 241, 236],\n",
       "       [ 40, 712,  30],\n",
       "       [754, 496, 696],\n",
       "       [900, 471, 819],\n",
       "       [ 91, 663, 622]])"
      ]
     },
     "execution_count": 53,
     "metadata": {},
     "output_type": "execute_result"
    }
   ],
   "source": [
    "arr2 = np.reshape(arr, (20,3))\n",
    "arr2"
   ]
  },
  {
   "cell_type": "code",
   "execution_count": 54,
   "id": "2eea3e8e",
   "metadata": {},
   "outputs": [
    {
     "name": "stdout",
     "output_type": "stream",
     "text": [
      "dimension of new array is :  2\n"
     ]
    }
   ],
   "source": [
    "print('dimension of new array is : ' , arr2.ndim) "
   ]
  },
  {
   "cell_type": "code",
   "execution_count": 55,
   "id": "696fb153",
   "metadata": {},
   "outputs": [
    {
     "name": "stdout",
     "output_type": "stream",
     "text": [
      "shape of new array is :  (20, 3)\n"
     ]
    }
   ],
   "source": [
    "print('shape of new array is : ' , arr2.shape)"
   ]
  },
  {
   "cell_type": "markdown",
   "id": "4e85a17f",
   "metadata": {},
   "source": [
    "### Exercise 03 : "
   ]
  },
  {
   "cell_type": "code",
   "execution_count": 56,
   "id": "95555ae8",
   "metadata": {},
   "outputs": [
    {
     "name": "stdout",
     "output_type": "stream",
     "text": [
      " Tuple of index value of 50 is :  (array([1], dtype=int64), array([0], dtype=int64))\n"
     ]
    }
   ],
   "source": [
    "arr = np.array([\n",
    "                [10, 20, 30, 40], \n",
    "                [50, 60, 70, 80]\n",
    "                ])\n",
    " \n",
    "result = np.where(arr == 50)\n",
    "print(\" Tuple of index value of 50 is : \", result)"
   ]
  },
  {
   "cell_type": "code",
   "execution_count": 57,
   "id": "3157c10c",
   "metadata": {},
   "outputs": [
    {
     "name": "stdout",
     "output_type": "stream",
     "text": [
      " index value of 50 is :  (1, 0)\n"
     ]
    }
   ],
   "source": [
    "# zip the 2 arrays to get the exact coordinates\n",
    "listOfCoordinates= list(zip(result[0], result[1]))\n",
    "\n",
    "# iterate over the list of coordinates\n",
    "for cord in listOfCoordinates:\n",
    "    print(\" index value of 50 is : \", cord)    \n",
    "    "
   ]
  },
  {
   "cell_type": "code",
   "execution_count": null,
   "id": "6d09010c",
   "metadata": {},
   "outputs": [],
   "source": []
  },
  {
   "cell_type": "markdown",
   "id": "cf3112bb",
   "metadata": {},
   "source": [
    "### Exercise 04 : "
   ]
  },
  {
   "cell_type": "code",
   "execution_count": 70,
   "id": "55b61708",
   "metadata": {},
   "outputs": [
    {
     "name": "stdout",
     "output_type": "stream",
     "text": [
      "element type of array is :  int32\n",
      "element type of array is :  <class 'numpy.ndarray'>\n"
     ]
    }
   ],
   "source": [
    "arr = np.array([[10, 20, 30, 40], [50, 60, 70, 80]])\n",
    "print('element type of array is : ' , arr.dtype)\n",
    "print('element type of array is : ' , type(arr))"
   ]
  },
  {
   "cell_type": "code",
   "execution_count": 59,
   "id": "845064f7",
   "metadata": {},
   "outputs": [
    {
     "name": "stdout",
     "output_type": "stream",
     "text": [
      "float64\n"
     ]
    }
   ],
   "source": [
    "arr = np.array([[10, 20, 30, 40], [50, 60, 70, 80]], dtype = float)\n",
    "print(arr.dtype)"
   ]
  },
  {
   "cell_type": "markdown",
   "id": "e237eaf4",
   "metadata": {},
   "source": [
    "### Exercise 05 : "
   ]
  },
  {
   "cell_type": "code",
   "execution_count": 73,
   "id": "67c25ae2",
   "metadata": {},
   "outputs": [],
   "source": [
    "arr1 = np.array([1, 2, 3])\n",
    "arr2 = np.array([4, 5, 6])"
   ]
  },
  {
   "cell_type": "code",
   "execution_count": 78,
   "id": "cc625c7a",
   "metadata": {},
   "outputs": [
    {
     "name": "stdout",
     "output_type": "stream",
     "text": [
      "[1 2 3]\n"
     ]
    }
   ],
   "source": [
    "print(arr1)"
   ]
  },
  {
   "cell_type": "code",
   "execution_count": 75,
   "id": "e4448abc",
   "metadata": {},
   "outputs": [
    {
     "data": {
      "text/plain": [
       "array([4, 5, 6])"
      ]
     },
     "execution_count": 75,
     "metadata": {},
     "output_type": "execute_result"
    }
   ],
   "source": [
    "arr2"
   ]
  },
  {
   "cell_type": "code",
   "execution_count": 76,
   "id": "e4cf34fb",
   "metadata": {},
   "outputs": [
    {
     "data": {
      "text/plain": [
       "array([1, 2, 3, 4, 5, 6])"
      ]
     },
     "execution_count": 76,
     "metadata": {},
     "output_type": "execute_result"
    }
   ],
   "source": [
    "arr_new = np.concatenate((arr1, arr2))\n",
    "arr_new "
   ]
  },
  {
   "cell_type": "code",
   "execution_count": 77,
   "id": "e7adf121",
   "metadata": {},
   "outputs": [
    {
     "name": "stdout",
     "output_type": "stream",
     "text": [
      "element type of array is :  <class 'numpy.ndarray'>\n"
     ]
    }
   ],
   "source": [
    "print('element type of array is : ' , type(arr_new))"
   ]
  },
  {
   "cell_type": "code",
   "execution_count": null,
   "id": "92c780df",
   "metadata": {},
   "outputs": [],
   "source": []
  }
 ],
 "metadata": {
  "kernelspec": {
   "display_name": "Python 3",
   "language": "python",
   "name": "python3"
  },
  "language_info": {
   "codemirror_mode": {
    "name": "ipython",
    "version": 3
   },
   "file_extension": ".py",
   "mimetype": "text/x-python",
   "name": "python",
   "nbconvert_exporter": "python",
   "pygments_lexer": "ipython3",
   "version": "3.8.8"
  }
 },
 "nbformat": 4,
 "nbformat_minor": 5
}
