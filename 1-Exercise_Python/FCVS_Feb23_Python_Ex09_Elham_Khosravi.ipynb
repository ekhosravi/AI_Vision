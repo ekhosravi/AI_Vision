{
 "cells": [
  {
   "cell_type": "markdown",
   "id": "41b5f73b",
   "metadata": {},
   "source": [
    "#                            Exercise 09"
   ]
  },
  {
   "cell_type": "markdown",
   "id": "5e748822",
   "metadata": {},
   "source": [
    "### Exercise 01 : "
   ]
  },
  {
   "cell_type": "code",
   "execution_count": 44,
   "id": "a7685f7f",
   "metadata": {},
   "outputs": [],
   "source": [
    "def fetchOddNumbers(lst_input):\n",
    "    lst_out = []\n",
    "    for i in lst_input:\n",
    "        if int(i) % 2 !=0:\n",
    "            lst_out.append(i)\n",
    "            \n",
    "    return lst_out"
   ]
  },
  {
   "cell_type": "code",
   "execution_count": 45,
   "id": "ecd80871",
   "metadata": {},
   "outputs": [
    {
     "name": "stdout",
     "output_type": "stream",
     "text": [
      "Expected Result : [1, 3, 5, 7, 9]\n"
     ]
    }
   ],
   "source": [
    "lst = [1, 2, 3, 4, 5, 6, 7, 8, 9] \n",
    "print('Expected Result :', fetchOddNumbers(lst))"
   ]
  },
  {
   "cell_type": "markdown",
   "id": "4553f3ef",
   "metadata": {},
   "source": [
    "### Exercise 02 : "
   ]
  },
  {
   "cell_type": "code",
   "execution_count": 62,
   "id": "ac69acbc",
   "metadata": {},
   "outputs": [],
   "source": [
    "def fibonaci(n):\n",
    "    n1, n2 = 0, 1\n",
    "    count = 0\n",
    "\n",
    " \n",
    "    if n <= 0:\n",
    "       print(\"ERROR, Please enter a positive integer\")\n",
    " \n",
    "    elif n == 1:\n",
    "       print(\"Fibonacci sequence : \" , n , \":\")\n",
    "       print(n1)\n",
    "\n",
    "    else:\n",
    "       print(\"Fibonacci sequence:\"  , end = ' ')\n",
    "       while count < n:\n",
    "           print(n1 , end = ' ')\n",
    "           nth = n1 + n2\n",
    "          \n",
    "           n1 = n2\n",
    "           n2 = nth\n",
    "           count += 1"
   ]
  },
  {
   "cell_type": "code",
   "execution_count": 63,
   "id": "8367efaa",
   "metadata": {},
   "outputs": [
    {
     "name": "stdout",
     "output_type": "stream",
     "text": [
      "Fibonacci sequence: 0 1 1 2 3 5 8 "
     ]
    }
   ],
   "source": [
    "fibonaci(7)"
   ]
  },
  {
   "cell_type": "markdown",
   "id": "4e85a17f",
   "metadata": {},
   "source": [
    "### Exercise 03 : "
   ]
  },
  {
   "cell_type": "code",
   "execution_count": 72,
   "id": "93d47ecf",
   "metadata": {},
   "outputs": [],
   "source": [
    "def sort_lisOfDictionary(emply , fld1 = 'age', fld2 = 'name'):\n",
    "    print(\"List of employees :\")\n",
    "    print(emply)\n",
    "    \n",
    "    sorted_employ = sorted(emply, key = lambda x: (x[fld1] , x[fld2]))\n",
    "    print(\"\\nSorted List of employees :\")\n",
    "    print(sorted_employ)"
   ]
  },
  {
   "cell_type": "code",
   "execution_count": 73,
   "id": "e54e8394",
   "metadata": {},
   "outputs": [
    {
     "name": "stdout",
     "output_type": "stream",
     "text": [
      "List of employees :\n",
      "[{'name': 'Sanaz', 'age': 14}, {'name': 'AmirHossein', 'age': 18}, {'name': 'Azam', 'age': 14}, {'name': 'Zahra', 'age': 16}, {'name': 'Shayan', 'age': 18}, {'name': 'Zahra', 'age': 17}]\n",
      "\n",
      "Sorted List of employees :\n",
      "[{'name': 'Azam', 'age': 14}, {'name': 'Sanaz', 'age': 14}, {'name': 'Zahra', 'age': 16}, {'name': 'Zahra', 'age': 17}, {'name': 'AmirHossein', 'age': 18}, {'name': 'Shayan', 'age': 18}]\n"
     ]
    }
   ],
   "source": [
    "employees = [{\"name\": \"Sanaz\", \"age\": 14}, {\"name\": \"AmirHossein\", \"age\": 18}, {\"name\": \"Azam\", \"age\": 14}, {\"name\": \"Zahra\", \"age\": 16}, {\"name\": \"Shayan\", \"age\": 18}, {\"name\": \"Zahra\", \"age\": 17}]\n",
    "sort_lisOfDictionary(employees)"
   ]
  },
  {
   "cell_type": "code",
   "execution_count": null,
   "id": "800ef87d",
   "metadata": {},
   "outputs": [],
   "source": []
  }
 ],
 "metadata": {
  "kernelspec": {
   "display_name": "Python 3",
   "language": "python",
   "name": "python3"
  },
  "language_info": {
   "codemirror_mode": {
    "name": "ipython",
    "version": 3
   },
   "file_extension": ".py",
   "mimetype": "text/x-python",
   "name": "python",
   "nbconvert_exporter": "python",
   "pygments_lexer": "ipython3",
   "version": "3.8.8"
  }
 },
 "nbformat": 4,
 "nbformat_minor": 5
}
