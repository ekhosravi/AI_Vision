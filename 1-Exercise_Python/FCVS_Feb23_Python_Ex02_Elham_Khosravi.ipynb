{
 "cells": [
  {
   "cell_type": "markdown",
   "id": "ef393dcd",
   "metadata": {},
   "source": [
    "### Ex01 : "
   ]
  },
  {
   "cell_type": "code",
   "execution_count": 40,
   "id": "6495b1bc",
   "metadata": {},
   "outputs": [
    {
     "name": "stdout",
     "output_type": "stream",
     "text": [
      "Circle diameter : 18\n",
      "input: 18.0 , output (print): Circle area is 254.469\n"
     ]
    }
   ],
   "source": [
    "import math as m\n",
    "\n",
    "circle_diameter = float(input('Circle diameter : '))\n",
    "\n",
    "circle_r = circle_diameter / 2\n",
    "\n",
    "circle_area = m.pi * circle_r * circle_r\n",
    "circle_area = round(circle_area , 3)\n",
    "\n",
    "print('input: {0} , output (print): Circle area is {1}'.format(circle_diameter,circle_area))\n"
   ]
  },
  {
   "cell_type": "markdown",
   "id": "09593c77",
   "metadata": {},
   "source": [
    "### Ex02 : "
   ]
  },
  {
   "cell_type": "code",
   "execution_count": 41,
   "id": "9f46d2f4",
   "metadata": {},
   "outputs": [
    {
     "name": "stdout",
     "output_type": "stream",
     "text": [
      "the width of cuboid : 18\n",
      "the height of cuboid : 4\n",
      "the length of cuboid : 5\n",
      "input1: 18 ,input2:4 ,input3:5 , output (print): Volume of cuboid is 360.00 and Surface area of cuboid is 364.000!\n"
     ]
    }
   ],
   "source": [
    "width = float(input('the width of cuboid : '))\n",
    "\n",
    "height = float(input('the height of cuboid : '))\n",
    "\n",
    "length = float(input('the length of cuboid : '))\n",
    "\n",
    "#  the Surface Area\n",
    "SA = 2 * (length * width + length * height + width * height)\n",
    "\n",
    "#  the Volume\n",
    "Volume = length * width * height\n",
    "\n",
    "\n",
    "print('input1: {} ,input2:{} ,input3:{} , output (print): Volume of cuboid is {:.2f} and Surface area of cuboid is {:.3f}!'.format(int(width), int(height), int(length), Volume, SA))\n"
   ]
  },
  {
   "cell_type": "markdown",
   "id": "7e1cc7a0",
   "metadata": {},
   "source": [
    "### Ex03 : "
   ]
  },
  {
   "cell_type": "code",
   "execution_count": 1,
   "id": "6b17903c",
   "metadata": {},
   "outputs": [
    {
     "name": "stdout",
     "output_type": "stream",
     "text": [
      "please enter the first number : 9\n",
      "please enter the second number : 4\n",
      "input_1: 9, input_2: 4 , output: sum = 13, division=2, subtraction=5, multiplication=36\n"
     ]
    }
   ],
   "source": [
    "num1 = int(input('please enter the first number : '))\n",
    "\n",
    "num2 = int(input('please enter the second number : '))\n",
    "\n",
    "sum_ = num1 + num2 \n",
    "division_ = int(num1 / num2) \n",
    "subtraction_ = num1 - num2 \n",
    "multiplication_ = num1 * num2 \n",
    "\n",
    "print('input_1: {}, input_2: {} , output: sum = {}, division={}, subtraction={}, multiplication={}'.format(num1, num2, sum_, division_, subtraction_, multiplication_))\n"
   ]
  },
  {
   "cell_type": "markdown",
   "id": "f0140ff5",
   "metadata": {},
   "source": [
    "### Ex04 : "
   ]
  },
  {
   "cell_type": "code",
   "execution_count": 35,
   "id": "cc61623f",
   "metadata": {},
   "outputs": [
    {
     "name": "stdout",
     "output_type": "stream",
     "text": [
      "please enter the first string : string_1\n",
      "please enter the second string : string_2\n",
      "input_1: string_1 , input_2: string_2 , output: result is \"string_1 string_2\"\n"
     ]
    }
   ],
   "source": [
    "str1 = input('please enter the first string : ')\n",
    "\n",
    "str2 = input('please enter the second string : ')\n",
    "\n",
    "str_result = str1 + ' ' + str2 \n",
    "\n",
    "print('input_1: {} , input_2: {} , output: result is \"{}\"'.format(str1, str2, str_result))\n"
   ]
  },
  {
   "cell_type": "markdown",
   "id": "207bbab9",
   "metadata": {},
   "source": [
    "### Ex05 : "
   ]
  },
  {
   "cell_type": "code",
   "execution_count": 37,
   "id": "82a20702",
   "metadata": {},
   "outputs": [
    {
     "name": "stdout",
     "output_type": "stream",
     "text": [
      "please enter the Fahrenheit degree : 86\n",
      "input: 86 , output: 86 degree Farenheit is equal to 30.0 degree Celsius.\n"
     ]
    }
   ],
   "source": [
    "Fahrenheit = int(input('please enter the Fahrenheit degree : '))\n",
    "\n",
    "celsius = ((Fahrenheit - 32) * 5) / 9 \n",
    "\n",
    "print('input: {} , output: {} degree Farenheit is equal to {:.1f} degree Celsius.'.format(Fahrenheit, Fahrenheit, celsius))\n"
   ]
  },
  {
   "cell_type": "markdown",
   "id": "d49f7469",
   "metadata": {},
   "source": [
    "### Ex06 : "
   ]
  },
  {
   "cell_type": "code",
   "execution_count": 39,
   "id": "8907d463",
   "metadata": {},
   "outputs": [
    {
     "name": "stdout",
     "output_type": "stream",
     "text": [
      "#\n",
      "##\n",
      "###\n",
      "####\n",
      "#####\n",
      "######\n",
      "#######\n"
     ]
    }
   ],
   "source": [
    "strHashtak = '#'\n",
    "\n",
    "for i in range(7):\n",
    "    print(strHashtak * (i + 1))"
   ]
  },
  {
   "cell_type": "code",
   "execution_count": null,
   "id": "affd7040",
   "metadata": {},
   "outputs": [],
   "source": []
  }
 ],
 "metadata": {
  "kernelspec": {
   "display_name": "Python 3",
   "language": "python",
   "name": "python3"
  },
  "language_info": {
   "codemirror_mode": {
    "name": "ipython",
    "version": 3
   },
   "file_extension": ".py",
   "mimetype": "text/x-python",
   "name": "python",
   "nbconvert_exporter": "python",
   "pygments_lexer": "ipython3",
   "version": "3.8.8"
  }
 },
 "nbformat": 4,
 "nbformat_minor": 5
}
