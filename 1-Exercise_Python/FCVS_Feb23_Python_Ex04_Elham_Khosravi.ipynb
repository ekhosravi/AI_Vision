{
 "cells": [
  {
   "cell_type": "markdown",
   "id": "ef393dcd",
   "metadata": {},
   "source": [
    "### Ex01 : "
   ]
  },
  {
   "cell_type": "code",
   "execution_count": 50,
   "id": "6495b1bc",
   "metadata": {},
   "outputs": [],
   "source": [
    "import statistics\n",
    "\n",
    "ages = [19, 22, 19, 24, 20, 25, 26, 24, 25, 24]"
   ]
  },
  {
   "cell_type": "markdown",
   "id": "7967bbf4",
   "metadata": {},
   "source": [
    "### 1."
   ]
  },
  {
   "cell_type": "code",
   "execution_count": 51,
   "id": "aa136611",
   "metadata": {},
   "outputs": [
    {
     "name": "stdout",
     "output_type": "stream",
     "text": [
      "sorted list : \n",
      "[19, 19, 20, 22, 24, 24, 24, 25, 25, 26]\n",
      " min age in the list : 19\n",
      " max age in the list : 26\n"
     ]
    }
   ],
   "source": [
    "a = sorted(ages) \n",
    "print(\"sorted list : \")\n",
    "print(a)\n",
    "\n",
    "print(\" min age in the list : {}\".format(a[0]))\n",
    "\n",
    "print(\" max age in the list : {}\".format(a[len(a) - 1]))"
   ]
  },
  {
   "cell_type": "markdown",
   "id": "89735553",
   "metadata": {},
   "source": [
    "### 2."
   ]
  },
  {
   "cell_type": "code",
   "execution_count": 52,
   "id": "b9c0d45f",
   "metadata": {},
   "outputs": [
    {
     "name": "stdout",
     "output_type": "stream",
     "text": [
      "First list : \n",
      "[19, 22, 19, 24, 20, 25, 26, 24, 25, 24]\n",
      "corrected list : \n",
      "[19, 22, 19, 24, 20, 25, 26, 24, 25, 24, 19, 26]\n"
     ]
    }
   ],
   "source": [
    "print (\"First list : \")\n",
    "print(ages)\n",
    "\n",
    "ages.append(a[0])\n",
    "ages.append(a[len(a) - 1])\n",
    "\n",
    "print (\"corrected list : \")\n",
    "print(ages)\n"
   ]
  },
  {
   "cell_type": "markdown",
   "id": "53c99821",
   "metadata": {},
   "source": [
    "### 3."
   ]
  },
  {
   "cell_type": "code",
   "execution_count": 53,
   "id": "b18cd6ee",
   "metadata": {},
   "outputs": [
    {
     "name": "stdout",
     "output_type": "stream",
     "text": [
      "24.0\n"
     ]
    }
   ],
   "source": [
    "\n",
    "print(statistics.median(ages))\n"
   ]
  },
  {
   "cell_type": "code",
   "execution_count": 54,
   "id": "c5d09cd8",
   "metadata": {},
   "outputs": [
    {
     "name": "stdout",
     "output_type": "stream",
     "text": [
      "[19, 19, 19, 20, 22, 24, 24, 24, 25, 25, 26, 26]\n"
     ]
    }
   ],
   "source": [
    "print(sorted(ages))"
   ]
  },
  {
   "cell_type": "code",
   "execution_count": 55,
   "id": "7e2a090b",
   "metadata": {},
   "outputs": [
    {
     "name": "stdout",
     "output_type": "stream",
     "text": [
      "median age is : 24.0\n"
     ]
    }
   ],
   "source": [
    "middle_index = len(ages) // 2 \n",
    "a = sorted(ages)\n",
    " \n",
    "if (len(a) % 2 == 0):\n",
    "    #len of list is even\n",
    "    print(\"median age is : {}\".format((a[middle_index -1] + a[middle_index]) / 2))\n",
    "else:\n",
    "    print(\"median age is : {}\".format(a[middle_index]))\n",
    "    "
   ]
  },
  {
   "cell_type": "markdown",
   "id": "9b84e7d4",
   "metadata": {},
   "source": [
    "### 4."
   ]
  },
  {
   "cell_type": "code",
   "execution_count": 56,
   "id": "b633a746",
   "metadata": {},
   "outputs": [
    {
     "name": "stdout",
     "output_type": "stream",
     "text": [
      "22.75\n"
     ]
    }
   ],
   "source": [
    "print(sum(ages) / len(ages))"
   ]
  },
  {
   "cell_type": "code",
   "execution_count": 57,
   "id": "3507e25b",
   "metadata": {},
   "outputs": [
    {
     "name": "stdout",
     "output_type": "stream",
     "text": [
      "22.75\n"
     ]
    }
   ],
   "source": [
    "sumAges = 0 \n",
    "counter = 0 \n",
    "\n",
    "for i in ages:\n",
    "    sumAges += i \n",
    "    counter += 1\n",
    "    \n",
    "print(sumAges / counter)"
   ]
  },
  {
   "cell_type": "code",
   "execution_count": 58,
   "id": "e2c02d24",
   "metadata": {},
   "outputs": [
    {
     "name": "stdout",
     "output_type": "stream",
     "text": [
      "22.75\n"
     ]
    }
   ],
   "source": [
    "\n",
    "print(statistics.mean(ages))"
   ]
  },
  {
   "cell_type": "markdown",
   "id": "f0c7939b",
   "metadata": {},
   "source": [
    "### 5."
   ]
  },
  {
   "cell_type": "code",
   "execution_count": 61,
   "id": "f443003b",
   "metadata": {},
   "outputs": [
    {
     "name": "stdout",
     "output_type": "stream",
     "text": [
      "min age in the list : 19\n",
      "max age in the list : 26\n",
      "The range of ages : from 19 to 26, the age gap is 7\n"
     ]
    }
   ],
   "source": [
    "print(\"min age in the list : {}\".format(min(ages)))\n",
    "print(\"max age in the list : {}\".format(max(ages)))\n",
    "\n",
    "print (\"The range of ages : from {} to {}, the age gap is {}\".format(min(ages), max(ages), max(ages) - min(ages)))"
   ]
  },
  {
   "cell_type": "markdown",
   "id": "332c61be",
   "metadata": {},
   "source": [
    "### 6."
   ]
  },
  {
   "cell_type": "code",
   "execution_count": 62,
   "id": "a5b17eb0",
   "metadata": {},
   "outputs": [
    {
     "name": "stdout",
     "output_type": "stream",
     "text": [
      "min - average : 3.75\n",
      "max - average : 3.25\n",
      "The min age has more distance to max age\n"
     ]
    }
   ],
   "source": [
    "min_average = abs(min(ages) - statistics.mean(ages))\n",
    "max_average = abs(max(ages) - statistics.mean(ages))\n",
    "\n",
    "print(\"min - average : {}\".format(min_average))\n",
    "print(\"max - average : {}\".format(max_average))\n",
    "\n",
    "if min_average > max_average:\n",
    "    print(\"The min age has more distance to max age\")\n",
    "    \n",
    "elif min_average < max_average:\n",
    "    print(\"The max age has more distance to min age\")"
   ]
  },
  {
   "cell_type": "code",
   "execution_count": null,
   "id": "f703e5fa",
   "metadata": {},
   "outputs": [],
   "source": []
  }
 ],
 "metadata": {
  "kernelspec": {
   "display_name": "Python 3",
   "language": "python",
   "name": "python3"
  },
  "language_info": {
   "codemirror_mode": {
    "name": "ipython",
    "version": 3
   },
   "file_extension": ".py",
   "mimetype": "text/x-python",
   "name": "python",
   "nbconvert_exporter": "python",
   "pygments_lexer": "ipython3",
   "version": "3.8.8"
  }
 },
 "nbformat": 4,
 "nbformat_minor": 5
}
