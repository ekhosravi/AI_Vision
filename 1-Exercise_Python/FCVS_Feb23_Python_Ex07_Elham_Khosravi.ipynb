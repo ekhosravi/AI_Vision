{
 "cells": [
  {
   "cell_type": "markdown",
   "id": "5e748822",
   "metadata": {},
   "source": [
    "### Exercise 01 : "
   ]
  },
  {
   "cell_type": "code",
   "execution_count": 92,
   "id": "a7685f7f",
   "metadata": {},
   "outputs": [],
   "source": [
    "it_companies = {'Facebook', 'Google', 'Microsoft', 'Apple', 'IBM', 'Oracle', 'Amazon'}"
   ]
  },
  {
   "cell_type": "markdown",
   "id": "f20c28f2",
   "metadata": {},
   "source": [
    "### 1."
   ]
  },
  {
   "cell_type": "code",
   "execution_count": 93,
   "id": "8782d498",
   "metadata": {},
   "outputs": [
    {
     "name": "stdout",
     "output_type": "stream",
     "text": [
      "Length of IT Company Set is :  7\n",
      "{'Google', 'Amazon', 'Facebook', 'Apple', 'IBM', 'Oracle', 'Microsoft'}\n"
     ]
    }
   ],
   "source": [
    "print(\"Length of IT Company Set is : \" , len(it_companies))\n",
    "\n",
    "print(it_companies)"
   ]
  },
  {
   "cell_type": "markdown",
   "id": "166dcede",
   "metadata": {},
   "source": [
    "### 2."
   ]
  },
  {
   "cell_type": "code",
   "execution_count": 94,
   "id": "e62a2ed8",
   "metadata": {},
   "outputs": [
    {
     "name": "stdout",
     "output_type": "stream",
     "text": [
      "{'Google', 'Amazon', 'Facebook', 'Twitter', 'Apple', 'IBM', 'Oracle', 'Microsoft'}\n"
     ]
    }
   ],
   "source": [
    "it_companies.add('Twitter')\n",
    "\n",
    "print(it_companies)"
   ]
  },
  {
   "cell_type": "markdown",
   "id": "94215640",
   "metadata": {},
   "source": [
    "### 3."
   ]
  },
  {
   "cell_type": "code",
   "execution_count": 95,
   "id": "565b6cd5",
   "metadata": {},
   "outputs": [
    {
     "name": "stdout",
     "output_type": "stream",
     "text": [
      "{'Google', 'Amazon', 'ebay', 'Facebook', 'Esri', 'Twitter', 'Apple', 'IBM', 'Oracle', 'Microsoft'}\n"
     ]
    }
   ],
   "source": [
    "it_companies.update(['ebay' , 'Esri'])\n",
    "print(it_companies)"
   ]
  },
  {
   "cell_type": "code",
   "execution_count": 96,
   "id": "a2ee48b6",
   "metadata": {},
   "outputs": [
    {
     "name": "stdout",
     "output_type": "stream",
     "text": [
      "{'Google', 'Amazon', 'ebay', 'Facebook', 'Esri', 'Autocad', 'Twitter', 'Apple', 'IBM', 'Rider', 'Oracle', 'Microsoft'}\n"
     ]
    }
   ],
   "source": [
    "\n",
    "second_it_company = {'Autocad', 'Rider'}\n",
    "it_companies = it_companies.union(second_it_company)\n",
    "\n",
    "print(it_companies)"
   ]
  },
  {
   "cell_type": "code",
   "execution_count": null,
   "id": "8f230eb4",
   "metadata": {},
   "outputs": [],
   "source": []
  },
  {
   "cell_type": "markdown",
   "id": "83c7efe4",
   "metadata": {},
   "source": [
    "### 4."
   ]
  },
  {
   "cell_type": "code",
   "execution_count": 97,
   "id": "ca4f744e",
   "metadata": {},
   "outputs": [
    {
     "name": "stdout",
     "output_type": "stream",
     "text": [
      "{'Google', 'Amazon', 'ebay', 'Facebook', 'Esri', 'Autocad', 'Twitter', 'Apple', 'Rider', 'Oracle', 'Microsoft'}\n"
     ]
    }
   ],
   "source": [
    "it_companies.remove('IBM')\n",
    "print(it_companies)"
   ]
  },
  {
   "cell_type": "markdown",
   "id": "d744fd5c",
   "metadata": {},
   "source": [
    "### 5."
   ]
  },
  {
   "cell_type": "code",
   "execution_count": 98,
   "id": "f3f2a8ae",
   "metadata": {},
   "outputs": [
    {
     "name": "stdout",
     "output_type": "stream",
     "text": [
      "{'Google', 'Amazon', 'ebay', 'Facebook', 'Esri', 'Autocad', 'Twitter', 'Apple', 'Rider', 'Oracle', 'Microsoft'}\n"
     ]
    }
   ],
   "source": [
    "it_companies.discard('IBMM')\n",
    "print(it_companies)"
   ]
  },
  {
   "cell_type": "code",
   "execution_count": 99,
   "id": "7d948237",
   "metadata": {},
   "outputs": [
    {
     "ename": "KeyError",
     "evalue": "'IBMM'",
     "output_type": "error",
     "traceback": [
      "\u001b[1;31m---------------------------------------------------------------------------\u001b[0m",
      "\u001b[1;31mKeyError\u001b[0m                                  Traceback (most recent call last)",
      "\u001b[1;32m<ipython-input-99-9c8ab233436b>\u001b[0m in \u001b[0;36m<module>\u001b[1;34m\u001b[0m\n\u001b[1;32m----> 1\u001b[1;33m \u001b[0mit_companies\u001b[0m\u001b[1;33m.\u001b[0m\u001b[0mremove\u001b[0m\u001b[1;33m(\u001b[0m\u001b[1;34m'IBMM'\u001b[0m\u001b[1;33m)\u001b[0m\u001b[1;33m\u001b[0m\u001b[1;33m\u001b[0m\u001b[0m\n\u001b[0m\u001b[0;32m      2\u001b[0m \u001b[0mprint\u001b[0m\u001b[1;33m(\u001b[0m\u001b[0mit_companies\u001b[0m\u001b[1;33m)\u001b[0m\u001b[1;33m\u001b[0m\u001b[1;33m\u001b[0m\u001b[0m\n",
      "\u001b[1;31mKeyError\u001b[0m: 'IBMM'"
     ]
    }
   ],
   "source": [
    "it_companies.remove('IBMM')\n",
    "print(it_companies)"
   ]
  },
  {
   "cell_type": "code",
   "execution_count": 100,
   "id": "6e66ebdb",
   "metadata": {},
   "outputs": [
    {
     "name": "stdout",
     "output_type": "stream",
     "text": [
      "in remove an item from set, if item is not in set collection it come back ERROR but in descard it doesn't\n"
     ]
    }
   ],
   "source": [
    "print(\"in remove an item from set, if item is not in set collection it come back ERROR but in descard it doesn't\")"
   ]
  },
  {
   "cell_type": "markdown",
   "id": "4553f3ef",
   "metadata": {},
   "source": [
    "### Exercise 02 : "
   ]
  },
  {
   "cell_type": "code",
   "execution_count": 101,
   "id": "1bc71235",
   "metadata": {},
   "outputs": [],
   "source": [
    "age = [22, 19, 24, 25, 26, 24, 25, 24]"
   ]
  },
  {
   "cell_type": "code",
   "execution_count": 102,
   "id": "2f7fe982",
   "metadata": {},
   "outputs": [
    {
     "name": "stdout",
     "output_type": "stream",
     "text": [
      "type of age is :  <class 'list'> [22, 19, 24, 25, 26, 24, 25, 24]  , and the length of that is : 8\n",
      "\n",
      "type of age converted is :  <class 'set'> {19, 22, 24, 25, 26}  , and the length of that is : 5\n"
     ]
    }
   ],
   "source": [
    "age_set = set(age)\n",
    "print(\"type of age is : \", type(age), age ,\" , and the length of that is :\" , len(age))\n",
    "print(\"\\ntype of age converted is : \", type(age_set) , age_set ,\" , and the length of that is :\" , len(age_set))"
   ]
  },
  {
   "cell_type": "code",
   "execution_count": 103,
   "id": "fad01992",
   "metadata": {},
   "outputs": [
    {
     "name": "stdout",
     "output_type": "stream",
     "text": [
      "the length of set is less , because set delete duplicate values\n"
     ]
    }
   ],
   "source": [
    "if len(age) > len(age_set):\n",
    "    print(\"the length of set is less , because set delete duplicate values\")\n",
    "elif len(age_set) > len(age):\n",
    "    print(\"the length of list is less , because list delete duplicate values\")\n",
    "    "
   ]
  },
  {
   "cell_type": "markdown",
   "id": "4e85a17f",
   "metadata": {},
   "source": [
    "### Exercise 03 : "
   ]
  },
  {
   "cell_type": "code",
   "execution_count": 106,
   "id": "cdb741eb",
   "metadata": {},
   "outputs": [
    {
     "name": "stdout",
     "output_type": "stream",
     "text": [
      "['I', 'am', 'a', 'teacher', 'and', 'I', 'love', 'to', 'inspire', 'and', 'teach', 'people']\n"
     ]
    }
   ],
   "source": [
    "s = \"I am a teacher and I love to inspire and teach people\"\n",
    "\n",
    "lst = s.split(' ')\n",
    "print (lst)"
   ]
  },
  {
   "cell_type": "code",
   "execution_count": 107,
   "id": "406cfade",
   "metadata": {},
   "outputs": [
    {
     "name": "stdout",
     "output_type": "stream",
     "text": [
      "{'to', 'people', 'teacher', 'I', 'love', 'teach', 'am', 'and', 'a', 'inspire'}\n"
     ]
    }
   ],
   "source": [
    "string_to_set = set(lst)\n",
    "print (string_to_set)"
   ]
  },
  {
   "cell_type": "code",
   "execution_count": 108,
   "id": "1f49caa0",
   "metadata": {},
   "outputs": [
    {
     "name": "stdout",
     "output_type": "stream",
     "text": [
      " there is 10 unique words in rhis sentence.\n"
     ]
    }
   ],
   "source": [
    "print(\" there is {} unique words in rhis sentence.\".format(len(string_to_set)))"
   ]
  },
  {
   "cell_type": "code",
   "execution_count": null,
   "id": "e54e8394",
   "metadata": {},
   "outputs": [],
   "source": []
  }
 ],
 "metadata": {
  "kernelspec": {
   "display_name": "Python 3",
   "language": "python",
   "name": "python3"
  },
  "language_info": {
   "codemirror_mode": {
    "name": "ipython",
    "version": 3
   },
   "file_extension": ".py",
   "mimetype": "text/x-python",
   "name": "python",
   "nbconvert_exporter": "python",
   "pygments_lexer": "ipython3",
   "version": "3.8.8"
  }
 },
 "nbformat": 4,
 "nbformat_minor": 5
}
