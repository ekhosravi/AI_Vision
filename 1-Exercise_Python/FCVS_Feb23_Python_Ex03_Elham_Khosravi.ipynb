{
 "cells": [
  {
   "cell_type": "markdown",
   "id": "ef393dcd",
   "metadata": {},
   "source": [
    "### Ex01 : "
   ]
  },
  {
   "cell_type": "code",
   "execution_count": 1,
   "id": "6495b1bc",
   "metadata": {},
   "outputs": [
    {
     "name": "stdout",
     "output_type": "stream",
     "text": [
      "Please enter the number to calculate the factorial of that : 9\n",
      "Factorial of 9 is 362880\n"
     ]
    }
   ],
   "source": [
    "Factorial_number = int(input('Please enter the number to calculate the factorial of that : '))\n",
    "first_factorial_number = Factorial_number \n",
    "Factorial = Factorial_number\n",
    "\n",
    "while (Factorial_number > 1):\n",
    "    Factorial_number -= 1\n",
    "    Factorial *= Factorial_number\n",
    "    #print(Factorial)\n",
    "    \n",
    "print('Factorial of {} is {}'.format(first_factorial_number,Factorial))\n"
   ]
  },
  {
   "cell_type": "markdown",
   "id": "09593c77",
   "metadata": {},
   "source": [
    "### Ex02 : "
   ]
  },
  {
   "cell_type": "code",
   "execution_count": 4,
   "id": "50a527f6",
   "metadata": {},
   "outputs": [
    {
     "name": "stdout",
     "output_type": "stream",
     "text": [
      "I guess a number between 1 to 100, Now you can start to generate numbers to find my guessed number.\n",
      "please enter a number between (1 , 100)\n",
      "55\n",
      "Wrong, Guess the lower number!\n",
      "\n",
      "please enter a number between (56 , 100)\n",
      "77\n",
      "Wrong, Guess the higher number!\n",
      "\n",
      "please enter a number between (56 , 76)\n",
      "88\n",
      "Wrong, Guess the higher number!\n",
      "\n",
      "please enter a number between (56 , 87)\n",
      "66\n",
      "Correct, good job\n"
     ]
    }
   ],
   "source": [
    "import random as rn\n",
    "\n",
    "guess_number = rn.randint(1 , 100)\n",
    "print(\"I guess a number between 1 to 100, Now you can start to generate numbers to find my guessed number.\")\n",
    "\n",
    "lowernumber = 1 \n",
    "uppernumber = 100\n",
    "counter = 1 \n",
    "\n",
    "while counter > 0:\n",
    "    print(\"please enter a number between ({} , {})\".format(lowernumber, uppernumber))\n",
    "    generated_number = int(input(\"\"))\n",
    "\n",
    "    if guess_number > generated_number:\n",
    "        print(\"Wrong, Guess the lower number!\")\n",
    "        lowernumber = generated_number + 1\n",
    "    elif guess_number < generated_number:\n",
    "        print(\"Wrong, Guess the higher number!\")\n",
    "        uppernumber = generated_number - 1\n",
    "    else:\n",
    "        print(\"Correct, good job\")\n",
    "        break\n",
    "    \n",
    "    print(\"\")\n",
    "    counter += 1"
   ]
  },
  {
   "cell_type": "markdown",
   "id": "7e1cc7a0",
   "metadata": {},
   "source": [
    "### Ex03 : "
   ]
  },
  {
   "cell_type": "code",
   "execution_count": 5,
   "id": "712f8246",
   "metadata": {},
   "outputs": [
    {
     "name": "stdout",
     "output_type": "stream",
     "text": [
      "0 x 0 = 0\n",
      "1 x 1 = 1\n",
      "2 x 2 = 4\n",
      "3 x 3 = 9\n",
      "4 x 4 = 16\n",
      "5 x 5 = 25\n",
      "6 x 6 = 36\n",
      "7 x 7 = 49\n",
      "8 x 8 = 64\n",
      "9 x 9 = 81\n",
      "10 x 10 = 100\n"
     ]
    }
   ],
   "source": [
    "for i in range(11):\n",
    "    print(\"{} x {} = {}\".format(i , i , (i * i)))"
   ]
  },
  {
   "cell_type": "markdown",
   "id": "f0140ff5",
   "metadata": {},
   "source": [
    "### Ex04 : "
   ]
  },
  {
   "cell_type": "code",
   "execution_count": 6,
   "id": "720acdc4",
   "metadata": {},
   "outputs": [
    {
     "name": "stdout",
     "output_type": "stream",
     "text": [
      "Please enter the number to iterate and sum of all number : 100\n",
      "The sum of all numbers is 5050\n"
     ]
    }
   ],
   "source": [
    "iteration_number = int(input('Please enter the number to iterate and sum of all number : '))\n",
    "\n",
    "sum_iteration = 0\n",
    "\n",
    "for i in range(iteration_number + 1):\n",
    "    sum_iteration += i\n",
    "    \n",
    "print(\"The sum of all numbers is {}\".format(sum_iteration))"
   ]
  },
  {
   "cell_type": "markdown",
   "id": "207bbab9",
   "metadata": {},
   "source": [
    "### Ex05 : "
   ]
  },
  {
   "cell_type": "code",
   "execution_count": 7,
   "id": "d9bf3035",
   "metadata": {},
   "outputs": [
    {
     "name": "stdout",
     "output_type": "stream",
     "text": [
      "['lemon', 'mango', 'orange', 'banana']\n"
     ]
    }
   ],
   "source": [
    "fruit_list = ['banana', 'orange', 'mango', 'lemon']\n",
    "\n",
    "fruit_list.reverse()\n",
    "print(fruit_list)"
   ]
  },
  {
   "cell_type": "markdown",
   "id": "d49f7469",
   "metadata": {},
   "source": [
    "### Ex06 : "
   ]
  },
  {
   "cell_type": "code",
   "execution_count": 8,
   "id": "4a47d465",
   "metadata": {},
   "outputs": [
    {
     "name": "stdout",
     "output_type": "stream",
     "text": [
      "201\n"
     ]
    }
   ],
   "source": [
    "list_number = [ 8, 120, 83, 89, 24, 97.5, 201 ]\n",
    "max_number_in_lst = 0 \n",
    "\n",
    "for i in list_number:\n",
    "    if max_number_in_lst < i:\n",
    "        max_number_in_lst = i\n",
    "\n",
    "print(max_number_in_lst)\n",
    " "
   ]
  },
  {
   "cell_type": "code",
   "execution_count": null,
   "id": "f443003b",
   "metadata": {},
   "outputs": [],
   "source": []
  }
 ],
 "metadata": {
  "kernelspec": {
   "display_name": "Python 3",
   "language": "python",
   "name": "python3"
  },
  "language_info": {
   "codemirror_mode": {
    "name": "ipython",
    "version": 3
   },
   "file_extension": ".py",
   "mimetype": "text/x-python",
   "name": "python",
   "nbconvert_exporter": "python",
   "pygments_lexer": "ipython3",
   "version": "3.8.8"
  }
 },
 "nbformat": 4,
 "nbformat_minor": 5
}
