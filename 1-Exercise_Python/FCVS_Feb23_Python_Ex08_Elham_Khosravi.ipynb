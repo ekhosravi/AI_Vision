{
 "cells": [
  {
   "cell_type": "markdown",
   "id": "5e748822",
   "metadata": {},
   "source": [
    "### Exercise 01 : "
   ]
  },
  {
   "cell_type": "code",
   "execution_count": 13,
   "id": "a7685f7f",
   "metadata": {},
   "outputs": [
    {
     "name": "stdout",
     "output_type": "stream",
     "text": [
      "count the number of charachter, please enter your desired string : Filoger\n",
      "the number of each charachter in your string is : \n",
      " {'F': 1, 'i': 1, 'l': 1, 'o': 1, 'g': 1, 'e': 1, 'r': 1}\n"
     ]
    }
   ],
   "source": [
    "str = input(\"count the number of charachter, please enter your desired string : \")\n",
    "\n",
    "str_output = {}\n",
    "for i in str:\n",
    "    if i in str_output:\n",
    "        str_output[i] += 1\n",
    "    else:\n",
    "        str_output[i] = 1\n",
    "\n",
    "print(\"the number of each charachter in your string is : \\n\", str_output)"
   ]
  },
  {
   "cell_type": "code",
   "execution_count": 16,
   "id": "e1f847e5",
   "metadata": {},
   "outputs": [
    {
     "name": "stdout",
     "output_type": "stream",
     "text": [
      "count the number of charachter, please enter your desired string : Filoger\n",
      "Count of all characters in input string is :\n",
      "  Counter({'F': 1, 'i': 1, 'l': 1, 'o': 1, 'g': 1, 'e': 1, 'r': 1})\n"
     ]
    }
   ],
   "source": [
    "from collections import Counter\n",
    "\n",
    "str = input(\"count the number of charachter, please enter your desired string : \")\n",
    "   \n",
    "res = Counter(str)\n",
    "  \n",
    "print(\"Count of all characters in input string is :\\n \" , res)"
   ]
  },
  {
   "cell_type": "markdown",
   "id": "4553f3ef",
   "metadata": {},
   "source": [
    "### Exercise 02 : "
   ]
  },
  {
   "cell_type": "code",
   "execution_count": 17,
   "id": "1bc71235",
   "metadata": {},
   "outputs": [],
   "source": [
    " input_str = 'Google is the border of science and innovation!'"
   ]
  },
  {
   "cell_type": "code",
   "execution_count": 21,
   "id": "9fca952f",
   "metadata": {},
   "outputs": [
    {
     "name": "stdout",
     "output_type": "stream",
     "text": [
      "first string :       Google is the border of science and innovation!\n",
      "\n",
      "Converted string :  ChatGPT is the border of science and innovation!\n"
     ]
    }
   ],
   "source": [
    "newstring  = input_str.replace('Google' , 'ChatGPT')\n",
    "print(\"first string :      \" , input_str)\n",
    "print(\"\\nConverted string : \" , newstring)"
   ]
  },
  {
   "cell_type": "markdown",
   "id": "4e85a17f",
   "metadata": {},
   "source": [
    "### Exercise 03 : "
   ]
  },
  {
   "cell_type": "code",
   "execution_count": 71,
   "id": "e54e8394",
   "metadata": {},
   "outputs": [
    {
     "name": "stdout",
     "output_type": "stream",
     "text": [
      "Current date is March 05 2023 , and the time is 12:33\n"
     ]
    }
   ],
   "source": [
    "\n",
    "from datetime import datetime\n",
    "\n",
    "now = datetime.now() # current date and time\n",
    " \n",
    "print(f\"Current date is {now :%B %d %Y}\" , f\", and the time is {now :%H:%M}\" )\n"
   ]
  },
  {
   "cell_type": "code",
   "execution_count": 69,
   "id": "599530c3",
   "metadata": {},
   "outputs": [
    {
     "name": "stdout",
     "output_type": "stream",
     "text": [
      "Current date is March 05 2023 , and the time is 12:32\n"
     ]
    }
   ],
   "source": [
    "\n",
    "now = datetime.now() # current date and time\n",
    "\n",
    "date_ = now.strftime(\"%B %d %Y\")\n",
    "\n",
    "time_ = now.strftime(\"%H:%M\")\n",
    "\n",
    "print(f\"Current date is {date_:}\" , f\", and the time is {time_}\" )\n",
    " "
   ]
  },
  {
   "cell_type": "markdown",
   "id": "d244c2b4",
   "metadata": {},
   "source": [
    "### Exercise 04 : "
   ]
  },
  {
   "cell_type": "code",
   "execution_count": 78,
   "id": "e8bf4385",
   "metadata": {},
   "outputs": [],
   "source": []
  },
  {
   "cell_type": "code",
   "execution_count": 85,
   "id": "1a93dfac",
   "metadata": {},
   "outputs": [
    {
     "name": "stdout",
     "output_type": "stream",
     "text": [
      "Filoger is repeated 3 times in the text!\n"
     ]
    }
   ],
   "source": [
    "str1 = 'about FILOGER: Filoger is an educational institute that focuses on AI. filoger is the biggest farsispeakers AI community.'\n",
    "str2 = str1.lower()\n",
    "\n",
    "desiredStr = 'Filoger'\n",
    "\n",
    "CntRepeated = str2.count('filoger'.lower())  \n",
    "\n",
    "  \n",
    "print(f\"{desiredStr} is repeated {CntRepeated} times in the text!\" )"
   ]
  },
  {
   "cell_type": "code",
   "execution_count": null,
   "id": "eaf5f2ba",
   "metadata": {},
   "outputs": [],
   "source": []
  }
 ],
 "metadata": {
  "kernelspec": {
   "display_name": "Python 3",
   "language": "python",
   "name": "python3"
  },
  "language_info": {
   "codemirror_mode": {
    "name": "ipython",
    "version": 3
   },
   "file_extension": ".py",
   "mimetype": "text/x-python",
   "name": "python",
   "nbconvert_exporter": "python",
   "pygments_lexer": "ipython3",
   "version": "3.8.8"
  }
 },
 "nbformat": 4,
 "nbformat_minor": 5
}
